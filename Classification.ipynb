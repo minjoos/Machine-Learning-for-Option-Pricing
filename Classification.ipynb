{
  "cells": [
    {
      "cell_type": "markdown",
      "id": "e6c24f4f",
      "metadata": {
        "id": "e6c24f4f"
      },
      "source": [
        "<h1>Classification</h1>"
      ]
    },
    {
      "cell_type": "code",
      "execution_count": null,
      "id": "3ffa30a4-977a-4ffe-abfe-854c80b69443",
      "metadata": {
        "tags": [],
        "id": "3ffa30a4-977a-4ffe-abfe-854c80b69443",
        "outputId": "bac91aed-b8a2-488a-b68d-3b547ba520a7"
      },
      "outputs": [
        {
          "name": "stdout",
          "output_type": "stream",
          "text": [
            "Requirement already satisfied: numpy in /Users/jasonng043/anaconda3/lib/python3.11/site-packages (1.24.3)\n",
            "Requirement already satisfied: pandas in /Users/jasonng043/anaconda3/lib/python3.11/site-packages (1.5.3)\n",
            "Requirement already satisfied: xgboost in /Users/jasonng043/anaconda3/lib/python3.11/site-packages (2.0.3)\n",
            "Requirement already satisfied: scikit-learn in /Users/jasonng043/anaconda3/lib/python3.11/site-packages (1.2.2)\n",
            "Requirement already satisfied: python-dateutil>=2.8.1 in /Users/jasonng043/anaconda3/lib/python3.11/site-packages (from pandas) (2.8.2)\n",
            "Requirement already satisfied: pytz>=2020.1 in /Users/jasonng043/anaconda3/lib/python3.11/site-packages (from pandas) (2022.7)\n",
            "Requirement already satisfied: scipy in /Users/jasonng043/anaconda3/lib/python3.11/site-packages (from xgboost) (1.10.1)\n",
            "Requirement already satisfied: joblib>=1.1.1 in /Users/jasonng043/anaconda3/lib/python3.11/site-packages (from scikit-learn) (1.2.0)\n",
            "Requirement already satisfied: threadpoolctl>=2.0.0 in /Users/jasonng043/anaconda3/lib/python3.11/site-packages (from scikit-learn) (2.2.0)\n",
            "Requirement already satisfied: six>=1.5 in /Users/jasonng043/anaconda3/lib/python3.11/site-packages (from python-dateutil>=2.8.1->pandas) (1.16.0)\n",
            "Note: you may need to restart the kernel to use updated packages.\n"
          ]
        }
      ],
      "source": [
        "pip install numpy pandas xgboost scikit-learn"
      ]
    },
    {
      "cell_type": "markdown",
      "id": "dc9fea95",
      "metadata": {
        "id": "dc9fea95"
      },
      "source": [
        "<h2>Logistic Regression</h2>"
      ]
    },
    {
      "cell_type": "code",
      "execution_count": null,
      "id": "02121de8",
      "metadata": {
        "id": "02121de8",
        "tags": []
      },
      "outputs": [],
      "source": [
        "import numpy as np\n",
        "import pandas as pd"
      ]
    },
    {
      "cell_type": "code",
      "execution_count": null,
      "id": "27a9640c",
      "metadata": {
        "id": "27a9640c",
        "tags": []
      },
      "outputs": [],
      "source": [
        "data = pd.read_csv('option_train.csv')"
      ]
    },
    {
      "cell_type": "code",
      "source": [],
      "metadata": {
        "id": "KJiFLrLkHdw8"
      },
      "id": "KJiFLrLkHdw8",
      "execution_count": null,
      "outputs": []
    },
    {
      "cell_type": "code",
      "execution_count": null,
      "id": "47f7311d",
      "metadata": {
        "id": "47f7311d",
        "tags": [],
        "outputId": "dcbc0290-9730-4f99-d5d9-4a4477ceb13d"
      },
      "outputs": [
        {
          "data": {
            "text/html": [
              "<div>\n",
              "<style scoped>\n",
              "    .dataframe tbody tr th:only-of-type {\n",
              "        vertical-align: middle;\n",
              "    }\n",
              "\n",
              "    .dataframe tbody tr th {\n",
              "        vertical-align: top;\n",
              "    }\n",
              "\n",
              "    .dataframe thead th {\n",
              "        text-align: right;\n",
              "    }\n",
              "</style>\n",
              "<table border=\"1\" class=\"dataframe\">\n",
              "  <thead>\n",
              "    <tr style=\"text-align: right;\">\n",
              "      <th></th>\n",
              "      <th>Unnamed: 0</th>\n",
              "      <th>Value</th>\n",
              "      <th>S</th>\n",
              "      <th>K</th>\n",
              "      <th>tau</th>\n",
              "      <th>r</th>\n",
              "      <th>BS</th>\n",
              "    </tr>\n",
              "  </thead>\n",
              "  <tbody>\n",
              "    <tr>\n",
              "      <th>0</th>\n",
              "      <td>1</td>\n",
              "      <td>348.500</td>\n",
              "      <td>1394.46</td>\n",
              "      <td>1050</td>\n",
              "      <td>0.128767</td>\n",
              "      <td>0.0116</td>\n",
              "      <td>Under</td>\n",
              "    </tr>\n",
              "    <tr>\n",
              "      <th>1</th>\n",
              "      <td>2</td>\n",
              "      <td>149.375</td>\n",
              "      <td>1432.25</td>\n",
              "      <td>1400</td>\n",
              "      <td>0.679452</td>\n",
              "      <td>0.0113</td>\n",
              "      <td>Under</td>\n",
              "    </tr>\n",
              "    <tr>\n",
              "      <th>2</th>\n",
              "      <td>3</td>\n",
              "      <td>294.500</td>\n",
              "      <td>1478.90</td>\n",
              "      <td>1225</td>\n",
              "      <td>0.443836</td>\n",
              "      <td>0.0112</td>\n",
              "      <td>Under</td>\n",
              "    </tr>\n",
              "    <tr>\n",
              "      <th>3</th>\n",
              "      <td>4</td>\n",
              "      <td>3.375</td>\n",
              "      <td>1369.89</td>\n",
              "      <td>1500</td>\n",
              "      <td>0.117808</td>\n",
              "      <td>0.0119</td>\n",
              "      <td>Over</td>\n",
              "    </tr>\n",
              "    <tr>\n",
              "      <th>4</th>\n",
              "      <td>5</td>\n",
              "      <td>84.000</td>\n",
              "      <td>1366.42</td>\n",
              "      <td>1350</td>\n",
              "      <td>0.298630</td>\n",
              "      <td>0.0119</td>\n",
              "      <td>Under</td>\n",
              "    </tr>\n",
              "  </tbody>\n",
              "</table>\n",
              "</div>"
            ],
            "text/plain": [
              "   Unnamed: 0    Value        S     K       tau       r     BS\n",
              "0           1  348.500  1394.46  1050  0.128767  0.0116  Under\n",
              "1           2  149.375  1432.25  1400  0.679452  0.0113  Under\n",
              "2           3  294.500  1478.90  1225  0.443836  0.0112  Under\n",
              "3           4    3.375  1369.89  1500  0.117808  0.0119   Over\n",
              "4           5   84.000  1366.42  1350  0.298630  0.0119  Under"
            ]
          },
          "execution_count": 126,
          "metadata": {},
          "output_type": "execute_result"
        }
      ],
      "source": [
        "data.head()"
      ]
    },
    {
      "cell_type": "code",
      "execution_count": null,
      "id": "29200815-ffe9-40fb-8032-b89251fe73f8",
      "metadata": {
        "tags": [],
        "id": "29200815-ffe9-40fb-8032-b89251fe73f8",
        "outputId": "29280c89-2685-4a92-ccfd-142bf5eca132"
      },
      "outputs": [
        {
          "data": {
            "text/plain": [
              "0.2264"
            ]
          },
          "execution_count": 127,
          "metadata": {},
          "output_type": "execute_result"
        }
      ],
      "source": [
        "count_over = 0\n",
        "for x in data['BS']:\n",
        "    if x == 'Over':\n",
        "        count_over += 1\n",
        "\n",
        "count_over/data.shape[0]"
      ]
    },
    {
      "cell_type": "code",
      "execution_count": null,
      "id": "d83f0424-fd53-4003-b7ed-775758327a5b",
      "metadata": {
        "tags": [],
        "id": "d83f0424-fd53-4003-b7ed-775758327a5b",
        "outputId": "e6f3eb35-27ed-4535-debc-59ab64480f26"
      },
      "outputs": [
        {
          "data": {
            "text/html": [
              "<div>\n",
              "<style scoped>\n",
              "    .dataframe tbody tr th:only-of-type {\n",
              "        vertical-align: middle;\n",
              "    }\n",
              "\n",
              "    .dataframe tbody tr th {\n",
              "        vertical-align: top;\n",
              "    }\n",
              "\n",
              "    .dataframe thead th {\n",
              "        text-align: right;\n",
              "    }\n",
              "</style>\n",
              "<table border=\"1\" class=\"dataframe\">\n",
              "  <thead>\n",
              "    <tr style=\"text-align: right;\">\n",
              "      <th></th>\n",
              "      <th>Unnamed: 0</th>\n",
              "      <th>S</th>\n",
              "      <th>K</th>\n",
              "      <th>tau</th>\n",
              "      <th>r</th>\n",
              "    </tr>\n",
              "  </thead>\n",
              "  <tbody>\n",
              "    <tr>\n",
              "      <th>0</th>\n",
              "      <td>1</td>\n",
              "      <td>1409.28</td>\n",
              "      <td>1325</td>\n",
              "      <td>0.126027</td>\n",
              "      <td>0.0115</td>\n",
              "    </tr>\n",
              "    <tr>\n",
              "      <th>1</th>\n",
              "      <td>2</td>\n",
              "      <td>1505.97</td>\n",
              "      <td>1100</td>\n",
              "      <td>0.315068</td>\n",
              "      <td>0.0110</td>\n",
              "    </tr>\n",
              "    <tr>\n",
              "      <th>2</th>\n",
              "      <td>3</td>\n",
              "      <td>1409.57</td>\n",
              "      <td>1450</td>\n",
              "      <td>0.197260</td>\n",
              "      <td>0.0116</td>\n",
              "    </tr>\n",
              "    <tr>\n",
              "      <th>3</th>\n",
              "      <td>4</td>\n",
              "      <td>1407.81</td>\n",
              "      <td>1250</td>\n",
              "      <td>0.101370</td>\n",
              "      <td>0.0116</td>\n",
              "    </tr>\n",
              "    <tr>\n",
              "      <th>4</th>\n",
              "      <td>5</td>\n",
              "      <td>1494.50</td>\n",
              "      <td>1300</td>\n",
              "      <td>0.194521</td>\n",
              "      <td>0.0110</td>\n",
              "    </tr>\n",
              "  </tbody>\n",
              "</table>\n",
              "</div>"
            ],
            "text/plain": [
              "   Unnamed: 0        S     K       tau       r\n",
              "0           1  1409.28  1325  0.126027  0.0115\n",
              "1           2  1505.97  1100  0.315068  0.0110\n",
              "2           3  1409.57  1450  0.197260  0.0116\n",
              "3           4  1407.81  1250  0.101370  0.0116\n",
              "4           5  1494.50  1300  0.194521  0.0110"
            ]
          },
          "execution_count": 128,
          "metadata": {},
          "output_type": "execute_result"
        }
      ],
      "source": [
        "test_data.head()"
      ]
    },
    {
      "cell_type": "code",
      "execution_count": null,
      "id": "a04fd7f2",
      "metadata": {
        "id": "a04fd7f2",
        "outputId": "cc581676-28e4-4fcf-ca19-2c3f82441589",
        "tags": []
      },
      "outputs": [
        {
          "data": {
            "text/plain": [
              "Unnamed: 0    0\n",
              "Value         0\n",
              "S             0\n",
              "K             0\n",
              "tau           0\n",
              "r             0\n",
              "BS            0\n",
              "dtype: int64"
            ]
          },
          "execution_count": 129,
          "metadata": {},
          "output_type": "execute_result"
        }
      ],
      "source": [
        "data.isnull().sum()"
      ]
    },
    {
      "cell_type": "code",
      "execution_count": null,
      "id": "a2a5dc8d",
      "metadata": {
        "id": "a2a5dc8d",
        "tags": []
      },
      "outputs": [],
      "source": [
        "data['BS'] = np.where(data['BS'] == 'Over', 1, 0)"
      ]
    },
    {
      "cell_type": "code",
      "execution_count": null,
      "id": "ae818ba6",
      "metadata": {
        "id": "ae818ba6",
        "outputId": "3543ee64-b916-4f51-ba56-a918a358ef5f",
        "tags": []
      },
      "outputs": [
        {
          "data": {
            "text/html": [
              "<div>\n",
              "<style scoped>\n",
              "    .dataframe tbody tr th:only-of-type {\n",
              "        vertical-align: middle;\n",
              "    }\n",
              "\n",
              "    .dataframe tbody tr th {\n",
              "        vertical-align: top;\n",
              "    }\n",
              "\n",
              "    .dataframe thead th {\n",
              "        text-align: right;\n",
              "    }\n",
              "</style>\n",
              "<table border=\"1\" class=\"dataframe\">\n",
              "  <thead>\n",
              "    <tr style=\"text-align: right;\">\n",
              "      <th></th>\n",
              "      <th>Unnamed: 0</th>\n",
              "      <th>Value</th>\n",
              "      <th>S</th>\n",
              "      <th>K</th>\n",
              "      <th>tau</th>\n",
              "      <th>r</th>\n",
              "      <th>BS</th>\n",
              "    </tr>\n",
              "  </thead>\n",
              "  <tbody>\n",
              "    <tr>\n",
              "      <th>0</th>\n",
              "      <td>1</td>\n",
              "      <td>348.500</td>\n",
              "      <td>1394.46</td>\n",
              "      <td>1050</td>\n",
              "      <td>0.128767</td>\n",
              "      <td>0.0116</td>\n",
              "      <td>0</td>\n",
              "    </tr>\n",
              "    <tr>\n",
              "      <th>1</th>\n",
              "      <td>2</td>\n",
              "      <td>149.375</td>\n",
              "      <td>1432.25</td>\n",
              "      <td>1400</td>\n",
              "      <td>0.679452</td>\n",
              "      <td>0.0113</td>\n",
              "      <td>0</td>\n",
              "    </tr>\n",
              "    <tr>\n",
              "      <th>2</th>\n",
              "      <td>3</td>\n",
              "      <td>294.500</td>\n",
              "      <td>1478.90</td>\n",
              "      <td>1225</td>\n",
              "      <td>0.443836</td>\n",
              "      <td>0.0112</td>\n",
              "      <td>0</td>\n",
              "    </tr>\n",
              "    <tr>\n",
              "      <th>3</th>\n",
              "      <td>4</td>\n",
              "      <td>3.375</td>\n",
              "      <td>1369.89</td>\n",
              "      <td>1500</td>\n",
              "      <td>0.117808</td>\n",
              "      <td>0.0119</td>\n",
              "      <td>1</td>\n",
              "    </tr>\n",
              "    <tr>\n",
              "      <th>4</th>\n",
              "      <td>5</td>\n",
              "      <td>84.000</td>\n",
              "      <td>1366.42</td>\n",
              "      <td>1350</td>\n",
              "      <td>0.298630</td>\n",
              "      <td>0.0119</td>\n",
              "      <td>0</td>\n",
              "    </tr>\n",
              "  </tbody>\n",
              "</table>\n",
              "</div>"
            ],
            "text/plain": [
              "   Unnamed: 0    Value        S     K       tau       r  BS\n",
              "0           1  348.500  1394.46  1050  0.128767  0.0116   0\n",
              "1           2  149.375  1432.25  1400  0.679452  0.0113   0\n",
              "2           3  294.500  1478.90  1225  0.443836  0.0112   0\n",
              "3           4    3.375  1369.89  1500  0.117808  0.0119   1\n",
              "4           5   84.000  1366.42  1350  0.298630  0.0119   0"
            ]
          },
          "execution_count": 131,
          "metadata": {},
          "output_type": "execute_result"
        }
      ],
      "source": [
        "data.head()"
      ]
    },
    {
      "cell_type": "code",
      "execution_count": null,
      "id": "7923cec3",
      "metadata": {
        "id": "7923cec3",
        "tags": []
      },
      "outputs": [],
      "source": [
        "X = data[['S','K','tau','r']]"
      ]
    },
    {
      "cell_type": "code",
      "execution_count": null,
      "id": "0654254e",
      "metadata": {
        "id": "0654254e",
        "tags": []
      },
      "outputs": [],
      "source": [
        "y = data['BS']"
      ]
    },
    {
      "cell_type": "code",
      "execution_count": null,
      "id": "7ca8c7db",
      "metadata": {
        "id": "7ca8c7db",
        "tags": []
      },
      "outputs": [],
      "source": [
        "from sklearn.model_selection import train_test_split"
      ]
    },
    {
      "cell_type": "code",
      "execution_count": null,
      "id": "a042b4ac",
      "metadata": {
        "id": "a042b4ac",
        "tags": []
      },
      "outputs": [],
      "source": [
        "from sklearn.preprocessing import StandardScaler"
      ]
    },
    {
      "cell_type": "code",
      "execution_count": null,
      "id": "441d348b",
      "metadata": {
        "id": "441d348b",
        "tags": []
      },
      "outputs": [],
      "source": [
        "X_train, X_test, y_train, y_test = train_test_split(X, y, test_size=0.3, random_state=101)"
      ]
    },
    {
      "cell_type": "code",
      "execution_count": null,
      "id": "c139ccca",
      "metadata": {
        "id": "c139ccca",
        "tags": []
      },
      "outputs": [],
      "source": [
        "scaler=StandardScaler()"
      ]
    },
    {
      "cell_type": "code",
      "execution_count": null,
      "id": "0a0e995e",
      "metadata": {
        "id": "0a0e995e",
        "tags": []
      },
      "outputs": [],
      "source": [
        "scaled_X_train= scaler.fit_transform(X_train)"
      ]
    },
    {
      "cell_type": "code",
      "execution_count": null,
      "id": "eb89b38b",
      "metadata": {
        "id": "eb89b38b",
        "tags": []
      },
      "outputs": [],
      "source": [
        "scaled_X_test=scaler.fit_transform(X_test)"
      ]
    },
    {
      "cell_type": "code",
      "execution_count": null,
      "id": "53425fdb",
      "metadata": {
        "id": "53425fdb",
        "tags": []
      },
      "outputs": [],
      "source": [
        "from sklearn.linear_model import LogisticRegression"
      ]
    },
    {
      "cell_type": "code",
      "execution_count": null,
      "id": "7df1ace3",
      "metadata": {
        "id": "7df1ace3",
        "tags": []
      },
      "outputs": [],
      "source": [
        "log_model = LogisticRegression()"
      ]
    },
    {
      "cell_type": "code",
      "execution_count": null,
      "id": "5994508e",
      "metadata": {
        "id": "5994508e",
        "outputId": "efdb251c-13bb-440a-9984-2c25a219417f",
        "tags": []
      },
      "outputs": [
        {
          "data": {
            "text/html": [
              "<style>#sk-container-id-6 {color: black;background-color: white;}#sk-container-id-6 pre{padding: 0;}#sk-container-id-6 div.sk-toggleable {background-color: white;}#sk-container-id-6 label.sk-toggleable__label {cursor: pointer;display: block;width: 100%;margin-bottom: 0;padding: 0.3em;box-sizing: border-box;text-align: center;}#sk-container-id-6 label.sk-toggleable__label-arrow:before {content: \"▸\";float: left;margin-right: 0.25em;color: #696969;}#sk-container-id-6 label.sk-toggleable__label-arrow:hover:before {color: black;}#sk-container-id-6 div.sk-estimator:hover label.sk-toggleable__label-arrow:before {color: black;}#sk-container-id-6 div.sk-toggleable__content {max-height: 0;max-width: 0;overflow: hidden;text-align: left;background-color: #f0f8ff;}#sk-container-id-6 div.sk-toggleable__content pre {margin: 0.2em;color: black;border-radius: 0.25em;background-color: #f0f8ff;}#sk-container-id-6 input.sk-toggleable__control:checked~div.sk-toggleable__content {max-height: 200px;max-width: 100%;overflow: auto;}#sk-container-id-6 input.sk-toggleable__control:checked~label.sk-toggleable__label-arrow:before {content: \"▾\";}#sk-container-id-6 div.sk-estimator input.sk-toggleable__control:checked~label.sk-toggleable__label {background-color: #d4ebff;}#sk-container-id-6 div.sk-label input.sk-toggleable__control:checked~label.sk-toggleable__label {background-color: #d4ebff;}#sk-container-id-6 input.sk-hidden--visually {border: 0;clip: rect(1px 1px 1px 1px);clip: rect(1px, 1px, 1px, 1px);height: 1px;margin: -1px;overflow: hidden;padding: 0;position: absolute;width: 1px;}#sk-container-id-6 div.sk-estimator {font-family: monospace;background-color: #f0f8ff;border: 1px dotted black;border-radius: 0.25em;box-sizing: border-box;margin-bottom: 0.5em;}#sk-container-id-6 div.sk-estimator:hover {background-color: #d4ebff;}#sk-container-id-6 div.sk-parallel-item::after {content: \"\";width: 100%;border-bottom: 1px solid gray;flex-grow: 1;}#sk-container-id-6 div.sk-label:hover label.sk-toggleable__label {background-color: #d4ebff;}#sk-container-id-6 div.sk-serial::before {content: \"\";position: absolute;border-left: 1px solid gray;box-sizing: border-box;top: 0;bottom: 0;left: 50%;z-index: 0;}#sk-container-id-6 div.sk-serial {display: flex;flex-direction: column;align-items: center;background-color: white;padding-right: 0.2em;padding-left: 0.2em;position: relative;}#sk-container-id-6 div.sk-item {position: relative;z-index: 1;}#sk-container-id-6 div.sk-parallel {display: flex;align-items: stretch;justify-content: center;background-color: white;position: relative;}#sk-container-id-6 div.sk-item::before, #sk-container-id-6 div.sk-parallel-item::before {content: \"\";position: absolute;border-left: 1px solid gray;box-sizing: border-box;top: 0;bottom: 0;left: 50%;z-index: -1;}#sk-container-id-6 div.sk-parallel-item {display: flex;flex-direction: column;z-index: 1;position: relative;background-color: white;}#sk-container-id-6 div.sk-parallel-item:first-child::after {align-self: flex-end;width: 50%;}#sk-container-id-6 div.sk-parallel-item:last-child::after {align-self: flex-start;width: 50%;}#sk-container-id-6 div.sk-parallel-item:only-child::after {width: 0;}#sk-container-id-6 div.sk-dashed-wrapped {border: 1px dashed gray;margin: 0 0.4em 0.5em 0.4em;box-sizing: border-box;padding-bottom: 0.4em;background-color: white;}#sk-container-id-6 div.sk-label label {font-family: monospace;font-weight: bold;display: inline-block;line-height: 1.2em;}#sk-container-id-6 div.sk-label-container {text-align: center;}#sk-container-id-6 div.sk-container {/* jupyter's `normalize.less` sets `[hidden] { display: none; }` but bootstrap.min.css set `[hidden] { display: none !important; }` so we also need the `!important` here to be able to override the default hidden behavior on the sphinx rendered scikit-learn.org. See: https://github.com/scikit-learn/scikit-learn/issues/21755 */display: inline-block !important;position: relative;}#sk-container-id-6 div.sk-text-repr-fallback {display: none;}</style><div id=\"sk-container-id-6\" class=\"sk-top-container\"><div class=\"sk-text-repr-fallback\"><pre>LogisticRegression()</pre><b>In a Jupyter environment, please rerun this cell to show the HTML representation or trust the notebook. <br />On GitHub, the HTML representation is unable to render, please try loading this page with nbviewer.org.</b></div><div class=\"sk-container\" hidden><div class=\"sk-item\"><div class=\"sk-estimator sk-toggleable\"><input class=\"sk-toggleable__control sk-hidden--visually\" id=\"sk-estimator-id-6\" type=\"checkbox\" checked><label for=\"sk-estimator-id-6\" class=\"sk-toggleable__label sk-toggleable__label-arrow\">LogisticRegression</label><div class=\"sk-toggleable__content\"><pre>LogisticRegression()</pre></div></div></div></div></div>"
            ],
            "text/plain": [
              "LogisticRegression()"
            ]
          },
          "execution_count": 142,
          "metadata": {},
          "output_type": "execute_result"
        }
      ],
      "source": [
        "log_model.fit(scaled_X_train,y_train)"
      ]
    },
    {
      "cell_type": "code",
      "execution_count": null,
      "id": "29a0d29b",
      "metadata": {
        "id": "29a0d29b",
        "tags": []
      },
      "outputs": [],
      "source": [
        "from sklearn.metrics import accuracy_score, classification_report, confusion_matrix"
      ]
    },
    {
      "cell_type": "code",
      "execution_count": null,
      "id": "442e68cd",
      "metadata": {
        "id": "442e68cd",
        "tags": []
      },
      "outputs": [],
      "source": [
        "y_pred_log=log_model.predict(scaled_X_test)"
      ]
    },
    {
      "cell_type": "code",
      "execution_count": null,
      "id": "2fab6da7",
      "metadata": {
        "id": "2fab6da7",
        "outputId": "d151bf7a-9ade-4f47-ab8b-511b721717f3",
        "tags": []
      },
      "outputs": [
        {
          "data": {
            "text/plain": [
              "0.89"
            ]
          },
          "execution_count": 145,
          "metadata": {},
          "output_type": "execute_result"
        }
      ],
      "source": [
        "accuracy_score(y_test,y_pred_log)"
      ]
    },
    {
      "cell_type": "code",
      "execution_count": null,
      "id": "6649ed89",
      "metadata": {
        "id": "6649ed89",
        "outputId": "c2c4092f-1911-4537-d02c-5a7b1f504590",
        "tags": []
      },
      "outputs": [
        {
          "data": {
            "text/plain": [
              "0.10999999999999999"
            ]
          },
          "execution_count": 146,
          "metadata": {},
          "output_type": "execute_result"
        }
      ],
      "source": [
        "#error\n",
        "1-accuracy_score(y_test,y_pred_log)"
      ]
    },
    {
      "cell_type": "code",
      "execution_count": null,
      "id": "988103e3",
      "metadata": {
        "id": "988103e3",
        "outputId": "70c20caa-5f54-4f60-f3b3-8877ba13a5c2",
        "tags": []
      },
      "outputs": [
        {
          "data": {
            "text/plain": [
              "array([[1109,   65],\n",
              "       [ 100,  226]])"
            ]
          },
          "execution_count": 147,
          "metadata": {},
          "output_type": "execute_result"
        }
      ],
      "source": [
        "confusion_matrix(y_test,y_pred_log)"
      ]
    },
    {
      "cell_type": "code",
      "execution_count": null,
      "id": "9ce139b1",
      "metadata": {
        "id": "9ce139b1",
        "outputId": "262b76ed-badd-416d-dc68-eb25b25847e8",
        "tags": []
      },
      "outputs": [
        {
          "name": "stdout",
          "output_type": "stream",
          "text": [
            "              precision    recall  f1-score   support\n",
            "\n",
            "           0       0.92      0.94      0.93      1174\n",
            "           1       0.78      0.69      0.73       326\n",
            "\n",
            "    accuracy                           0.89      1500\n",
            "   macro avg       0.85      0.82      0.83      1500\n",
            "weighted avg       0.89      0.89      0.89      1500\n",
            "\n"
          ]
        }
      ],
      "source": [
        "print(classification_report(y_test,y_pred_log))"
      ]
    },
    {
      "cell_type": "code",
      "execution_count": null,
      "id": "94fe07cf",
      "metadata": {
        "id": "94fe07cf",
        "outputId": "045a3381-89ce-4869-c9eb-3938b997edd4",
        "tags": []
      },
      "outputs": [
        {
          "data": {
            "image/png": "[encoded data removed]",
            "text/plain": [
              "<Figure size 640x480 with 1 Axes>"
            ]
          },
          "metadata": {},
          "output_type": "display_data"
        }
      ],
      "source": [
        "from sklearn.metrics import roc_curve, RocCurveDisplay\n",
        "import matplotlib.pyplot as plt\n",
        "\n",
        "# Assuming log_model is your trained logistic regression model\n",
        "# and scaled_X_test and y_test are your test data and labels respectively\n",
        "\n",
        "# Get the prediction scores\n",
        "y_score = log_model.predict_proba(scaled_X_test)[:, 1]\n",
        "\n",
        "# Generate ROC curve data\n",
        "fpr, tpr, thresholds = roc_curve(y_test, y_score)\n",
        "\n",
        "# Create ROC Display\n",
        "roc_display = RocCurveDisplay(fpr=fpr, tpr=tpr).plot()\n",
        "\n",
        "plt.show()\n"
      ]
    },
    {
      "cell_type": "markdown",
      "id": "79360d63",
      "metadata": {
        "id": "79360d63"
      },
      "source": [
        "<h2>KNN - Classification</h2>"
      ]
    },
    {
      "cell_type": "code",
      "execution_count": null,
      "id": "9b04fdd2",
      "metadata": {
        "id": "9b04fdd2",
        "tags": []
      },
      "outputs": [],
      "source": [
        "from sklearn.neighbors import KNeighborsClassifier"
      ]
    },
    {
      "cell_type": "code",
      "execution_count": null,
      "id": "fe2991fc",
      "metadata": {
        "id": "fe2991fc",
        "tags": []
      },
      "outputs": [],
      "source": [
        "knn_model=KNeighborsClassifier(n_neighbors=1)"
      ]
    },
    {
      "cell_type": "code",
      "execution_count": null,
      "id": "137b4aab",
      "metadata": {
        "id": "137b4aab",
        "outputId": "34e1bb24-6c90-499b-df1d-c9a0fb891a64",
        "tags": []
      },
      "outputs": [
        {
          "data": {
            "text/html": [
              "<style>#sk-container-id-7 {color: black;background-color: white;}#sk-container-id-7 pre{padding: 0;}#sk-container-id-7 div.sk-toggleable {background-color: white;}#sk-container-id-7 label.sk-toggleable__label {cursor: pointer;display: block;width: 100%;margin-bottom: 0;padding: 0.3em;box-sizing: border-box;text-align: center;}#sk-container-id-7 label.sk-toggleable__label-arrow:before {content: \"▸\";float: left;margin-right: 0.25em;color: #696969;}#sk-container-id-7 label.sk-toggleable__label-arrow:hover:before {color: black;}#sk-container-id-7 div.sk-estimator:hover label.sk-toggleable__label-arrow:before {color: black;}#sk-container-id-7 div.sk-toggleable__content {max-height: 0;max-width: 0;overflow: hidden;text-align: left;background-color: #f0f8ff;}#sk-container-id-7 div.sk-toggleable__content pre {margin: 0.2em;color: black;border-radius: 0.25em;background-color: #f0f8ff;}#sk-container-id-7 input.sk-toggleable__control:checked~div.sk-toggleable__content {max-height: 200px;max-width: 100%;overflow: auto;}#sk-container-id-7 input.sk-toggleable__control:checked~label.sk-toggleable__label-arrow:before {content: \"▾\";}#sk-container-id-7 div.sk-estimator input.sk-toggleable__control:checked~label.sk-toggleable__label {background-color: #d4ebff;}#sk-container-id-7 div.sk-label input.sk-toggleable__control:checked~label.sk-toggleable__label {background-color: #d4ebff;}#sk-container-id-7 input.sk-hidden--visually {border: 0;clip: rect(1px 1px 1px 1px);clip: rect(1px, 1px, 1px, 1px);height: 1px;margin: -1px;overflow: hidden;padding: 0;position: absolute;width: 1px;}#sk-container-id-7 div.sk-estimator {font-family: monospace;background-color: #f0f8ff;border: 1px dotted black;border-radius: 0.25em;box-sizing: border-box;margin-bottom: 0.5em;}#sk-container-id-7 div.sk-estimator:hover {background-color: #d4ebff;}#sk-container-id-7 div.sk-parallel-item::after {content: \"\";width: 100%;border-bottom: 1px solid gray;flex-grow: 1;}#sk-container-id-7 div.sk-label:hover label.sk-toggleable__label {background-color: #d4ebff;}#sk-container-id-7 div.sk-serial::before {content: \"\";position: absolute;border-left: 1px solid gray;box-sizing: border-box;top: 0;bottom: 0;left: 50%;z-index: 0;}#sk-container-id-7 div.sk-serial {display: flex;flex-direction: column;align-items: center;background-color: white;padding-right: 0.2em;padding-left: 0.2em;position: relative;}#sk-container-id-7 div.sk-item {position: relative;z-index: 1;}#sk-container-id-7 div.sk-parallel {display: flex;align-items: stretch;justify-content: center;background-color: white;position: relative;}#sk-container-id-7 div.sk-item::before, #sk-container-id-7 div.sk-parallel-item::before {content: \"\";position: absolute;border-left: 1px solid gray;box-sizing: border-box;top: 0;bottom: 0;left: 50%;z-index: -1;}#sk-container-id-7 div.sk-parallel-item {display: flex;flex-direction: column;z-index: 1;position: relative;background-color: white;}#sk-container-id-7 div.sk-parallel-item:first-child::after {align-self: flex-end;width: 50%;}#sk-container-id-7 div.sk-parallel-item:last-child::after {align-self: flex-start;width: 50%;}#sk-container-id-7 div.sk-parallel-item:only-child::after {width: 0;}#sk-container-id-7 div.sk-dashed-wrapped {border: 1px dashed gray;margin: 0 0.4em 0.5em 0.4em;box-sizing: border-box;padding-bottom: 0.4em;background-color: white;}#sk-container-id-7 div.sk-label label {font-family: monospace;font-weight: bold;display: inline-block;line-height: 1.2em;}#sk-container-id-7 div.sk-label-container {text-align: center;}#sk-container-id-7 div.sk-container {/* jupyter's `normalize.less` sets `[hidden] { display: none; }` but bootstrap.min.css set `[hidden] { display: none !important; }` so we also need the `!important` here to be able to override the default hidden behavior on the sphinx rendered scikit-learn.org. See: https://github.com/scikit-learn/scikit-learn/issues/21755 */display: inline-block !important;position: relative;}#sk-container-id-7 div.sk-text-repr-fallback {display: none;}</style><div id=\"sk-container-id-7\" class=\"sk-top-container\"><div class=\"sk-text-repr-fallback\"><pre>KNeighborsClassifier(n_neighbors=1)</pre><b>In a Jupyter environment, please rerun this cell to show the HTML representation or trust the notebook. <br />On GitHub, the HTML representation is unable to render, please try loading this page with nbviewer.org.</b></div><div class=\"sk-container\" hidden><div class=\"sk-item\"><div class=\"sk-estimator sk-toggleable\"><input class=\"sk-toggleable__control sk-hidden--visually\" id=\"sk-estimator-id-7\" type=\"checkbox\" checked><label for=\"sk-estimator-id-7\" class=\"sk-toggleable__label sk-toggleable__label-arrow\">KNeighborsClassifier</label><div class=\"sk-toggleable__content\"><pre>KNeighborsClassifier(n_neighbors=1)</pre></div></div></div></div></div>"
            ],
            "text/plain": [
              "KNeighborsClassifier(n_neighbors=1)"
            ]
          },
          "execution_count": 152,
          "metadata": {},
          "output_type": "execute_result"
        }
      ],
      "source": [
        "knn_model.fit(scaled_X_train,y_train)"
      ]
    },
    {
      "cell_type": "code",
      "execution_count": null,
      "id": "fcc50a37",
      "metadata": {
        "id": "fcc50a37",
        "tags": []
      },
      "outputs": [],
      "source": [
        "from sklearn.metrics import accuracy_score, classification_report, confusion_matrix"
      ]
    },
    {
      "cell_type": "code",
      "execution_count": null,
      "id": "f4fdef32",
      "metadata": {
        "id": "f4fdef32",
        "tags": []
      },
      "outputs": [],
      "source": [
        "y_pred_knn=knn_model.predict(scaled_X_test)"
      ]
    },
    {
      "cell_type": "code",
      "execution_count": null,
      "id": "7f27e35b",
      "metadata": {
        "id": "7f27e35b",
        "outputId": "8bab7090-9d6d-46dd-9e99-4dbd89cd48a3",
        "tags": []
      },
      "outputs": [
        {
          "data": {
            "text/plain": [
              "0.91"
            ]
          },
          "execution_count": 155,
          "metadata": {},
          "output_type": "execute_result"
        }
      ],
      "source": [
        "accuracy_score(y_test,y_pred_knn)"
      ]
    },
    {
      "cell_type": "code",
      "execution_count": null,
      "id": "46d3ccef",
      "metadata": {
        "id": "46d3ccef",
        "outputId": "447e21b1-3c9f-42d9-cc66-c2f31984f7b4",
        "tags": []
      },
      "outputs": [
        {
          "data": {
            "text/plain": [
              "0.08999999999999997"
            ]
          },
          "execution_count": 156,
          "metadata": {},
          "output_type": "execute_result"
        }
      ],
      "source": [
        "#error\n",
        "1-accuracy_score(y_test,y_pred_knn)"
      ]
    },
    {
      "cell_type": "code",
      "execution_count": null,
      "id": "85f31b39",
      "metadata": {
        "id": "85f31b39",
        "outputId": "fe11d958-94a1-4a07-8768-487d3fc64fa5",
        "tags": []
      },
      "outputs": [
        {
          "data": {
            "text/plain": [
              "array([[1094,   80],\n",
              "       [  55,  271]])"
            ]
          },
          "execution_count": 157,
          "metadata": {},
          "output_type": "execute_result"
        }
      ],
      "source": [
        "confusion_matrix(y_test,y_pred_knn)"
      ]
    },
    {
      "cell_type": "code",
      "execution_count": null,
      "id": "4fa1a308",
      "metadata": {
        "id": "4fa1a308",
        "outputId": "c37cac60-dfff-424e-e7a4-458674a74b34",
        "tags": []
      },
      "outputs": [
        {
          "name": "stdout",
          "output_type": "stream",
          "text": [
            "              precision    recall  f1-score   support\n",
            "\n",
            "           0       0.95      0.93      0.94      1174\n",
            "           1       0.77      0.83      0.80       326\n",
            "\n",
            "    accuracy                           0.91      1500\n",
            "   macro avg       0.86      0.88      0.87      1500\n",
            "weighted avg       0.91      0.91      0.91      1500\n",
            "\n"
          ]
        }
      ],
      "source": [
        "print(classification_report(y_test,y_pred_knn))"
      ]
    },
    {
      "cell_type": "code",
      "execution_count": null,
      "id": "826e2db2",
      "metadata": {
        "id": "826e2db2",
        "outputId": "f1c71a35-7d48-4f97-a2cf-09b365284105",
        "tags": []
      },
      "outputs": [
        {
          "data": {
            "text/plain": [
              "1500"
            ]
          },
          "execution_count": 159,
          "metadata": {},
          "output_type": "execute_result"
        }
      ],
      "source": [
        "len(y_test)"
      ]
    },
    {
      "cell_type": "code",
      "execution_count": null,
      "id": "ec044257",
      "metadata": {
        "id": "ec044257",
        "tags": []
      },
      "outputs": [],
      "source": [
        "#which K number can minimize this error"
      ]
    },
    {
      "cell_type": "code",
      "execution_count": null,
      "id": "2ee2f420",
      "metadata": {
        "id": "2ee2f420",
        "tags": []
      },
      "outputs": [],
      "source": [
        "test_error_rates=[]\n",
        "\n",
        "for k in range(1,30):\n",
        "    knn_model=KNeighborsClassifier(n_neighbors=k)\n",
        "    knn_model.fit(scaled_X_train,y_train)\n",
        "\n",
        "    y_pred_test = knn_model.predict(scaled_X_test)\n",
        "\n",
        "    test_error=1-accuracy_score(y_test, y_pred_test)\n",
        "\n",
        "    test_error_rates.append(test_error)"
      ]
    },
    {
      "cell_type": "code",
      "execution_count": null,
      "id": "3075bc37",
      "metadata": {
        "id": "3075bc37",
        "outputId": "1b8b3d87-5623-4e64-da99-6f2d728a0960",
        "tags": []
      },
      "outputs": [
        {
          "data": {
            "text/plain": [
              "Text(0.5, 0, 'K NEIGHBORS')"
            ]
          },
          "execution_count": 162,
          "metadata": {},
          "output_type": "execute_result"
        },
        {
          "data": {
            "image/png": "[encoded data removed]",
            "text/plain": [
              "<Figure size 640x480 with 1 Axes>"
            ]
          },
          "metadata": {},
          "output_type": "display_data"
        }
      ],
      "source": [
        "plt.plot(range(1,30),test_error_rates)\n",
        "plt.ylabel('ERROR RATE')\n",
        "plt.xlabel('K NEIGHBORS')"
      ]
    },
    {
      "cell_type": "markdown",
      "id": "bb76baaf",
      "metadata": {
        "id": "bb76baaf"
      },
      "source": [
        "<h3>CV for KNN</h3>"
      ]
    },
    {
      "cell_type": "code",
      "execution_count": null,
      "id": "692605cc",
      "metadata": {
        "id": "692605cc",
        "outputId": "34ba566a-33e7-4a31-d711-601cca0b5147",
        "tags": []
      },
      "outputs": [
        {
          "name": "stdout",
          "output_type": "stream",
          "text": [
            "The optimal number of neighbors is 1\n"
          ]
        },
        {
          "data": {
            "image/png": "[encoded data removed]",
            "text/plain": [
              "<Figure size 1200x600 with 1 Axes>"
            ]
          },
          "metadata": {},
          "output_type": "display_data"
        }
      ],
      "source": [
        "from sklearn.model_selection import cross_val_score\n",
        "import numpy as np\n",
        "\n",
        "# List to keep track of average cross-validation scores\n",
        "cv_scores = []\n",
        "\n",
        "# Define a range of n_neighbors you want to try\n",
        "neighbors_range = range(1, 30)\n",
        "\n",
        "for n_neighbors in neighbors_range:\n",
        "    # Initialize the KNN classifier\n",
        "    knn_model = KNeighborsClassifier(n_neighbors=n_neighbors)\n",
        "\n",
        "    # Perform cross-validation\n",
        "    scores = cross_val_score(knn_model, scaled_X_train, y_train, cv=10, scoring='accuracy')\n",
        "\n",
        "    # Append the mean of the scores for this n_neighbors to cv_scores\n",
        "    cv_scores.append(scores.mean())\n",
        "\n",
        "# Find the optimal n_neighbors with the highest mean accuracy\n",
        "optimal_n = neighbors_range[np.argmax(cv_scores)]\n",
        "print(f\"The optimal number of neighbors is {optimal_n}\")\n",
        "\n",
        "# Plot the relationship between n_neighbors and cross-validation score\n",
        "plt.figure(figsize=(12,6))\n",
        "plt.plot(neighbors_range, cv_scores, marker='o', linestyle='-', color='blue')\n",
        "plt.xlabel('Number of Neighbors K')\n",
        "plt.ylabel('Cross-Validated Accuracy')\n",
        "plt.title('K vs. Cross-Validated Accuracy')\n",
        "\n",
        "plt.show()\n"
      ]
    },
    {
      "cell_type": "code",
      "execution_count": null,
      "id": "27882a6e",
      "metadata": {
        "id": "27882a6e"
      },
      "outputs": [],
      "source": []
    },
    {
      "cell_type": "markdown",
      "id": "a99542ba",
      "metadata": {
        "id": "a99542ba"
      },
      "source": [
        "<h2>Decision Tree - Classification </h2>"
      ]
    },
    {
      "cell_type": "code",
      "execution_count": null,
      "id": "4c9d4a62",
      "metadata": {
        "id": "4c9d4a62",
        "scrolled": true,
        "tags": []
      },
      "outputs": [],
      "source": [
        "from sklearn.tree import DecisionTreeClassifier"
      ]
    },
    {
      "cell_type": "code",
      "execution_count": null,
      "id": "2dc917c3",
      "metadata": {
        "id": "2dc917c3",
        "tags": []
      },
      "outputs": [],
      "source": [
        "tree_model = DecisionTreeClassifier()"
      ]
    },
    {
      "cell_type": "code",
      "execution_count": null,
      "id": "02a7e1e6",
      "metadata": {
        "id": "02a7e1e6",
        "outputId": "dcf69876-a6c6-495e-c404-4528fc388abe",
        "tags": []
      },
      "outputs": [
        {
          "data": {
            "text/html": [
              "<style>#sk-container-id-8 {color: black;background-color: white;}#sk-container-id-8 pre{padding: 0;}#sk-container-id-8 div.sk-toggleable {background-color: white;}#sk-container-id-8 label.sk-toggleable__label {cursor: pointer;display: block;width: 100%;margin-bottom: 0;padding: 0.3em;box-sizing: border-box;text-align: center;}#sk-container-id-8 label.sk-toggleable__label-arrow:before {content: \"▸\";float: left;margin-right: 0.25em;color: #696969;}#sk-container-id-8 label.sk-toggleable__label-arrow:hover:before {color: black;}#sk-container-id-8 div.sk-estimator:hover label.sk-toggleable__label-arrow:before {color: black;}#sk-container-id-8 div.sk-toggleable__content {max-height: 0;max-width: 0;overflow: hidden;text-align: left;background-color: #f0f8ff;}#sk-container-id-8 div.sk-toggleable__content pre {margin: 0.2em;color: black;border-radius: 0.25em;background-color: #f0f8ff;}#sk-container-id-8 input.sk-toggleable__control:checked~div.sk-toggleable__content {max-height: 200px;max-width: 100%;overflow: auto;}#sk-container-id-8 input.sk-toggleable__control:checked~label.sk-toggleable__label-arrow:before {content: \"▾\";}#sk-container-id-8 div.sk-estimator input.sk-toggleable__control:checked~label.sk-toggleable__label {background-color: #d4ebff;}#sk-container-id-8 div.sk-label input.sk-toggleable__control:checked~label.sk-toggleable__label {background-color: #d4ebff;}#sk-container-id-8 input.sk-hidden--visually {border: 0;clip: rect(1px 1px 1px 1px);clip: rect(1px, 1px, 1px, 1px);height: 1px;margin: -1px;overflow: hidden;padding: 0;position: absolute;width: 1px;}#sk-container-id-8 div.sk-estimator {font-family: monospace;background-color: #f0f8ff;border: 1px dotted black;border-radius: 0.25em;box-sizing: border-box;margin-bottom: 0.5em;}#sk-container-id-8 div.sk-estimator:hover {background-color: #d4ebff;}#sk-container-id-8 div.sk-parallel-item::after {content: \"\";width: 100%;border-bottom: 1px solid gray;flex-grow: 1;}#sk-container-id-8 div.sk-label:hover label.sk-toggleable__label {background-color: #d4ebff;}#sk-container-id-8 div.sk-serial::before {content: \"\";position: absolute;border-left: 1px solid gray;box-sizing: border-box;top: 0;bottom: 0;left: 50%;z-index: 0;}#sk-container-id-8 div.sk-serial {display: flex;flex-direction: column;align-items: center;background-color: white;padding-right: 0.2em;padding-left: 0.2em;position: relative;}#sk-container-id-8 div.sk-item {position: relative;z-index: 1;}#sk-container-id-8 div.sk-parallel {display: flex;align-items: stretch;justify-content: center;background-color: white;position: relative;}#sk-container-id-8 div.sk-item::before, #sk-container-id-8 div.sk-parallel-item::before {content: \"\";position: absolute;border-left: 1px solid gray;box-sizing: border-box;top: 0;bottom: 0;left: 50%;z-index: -1;}#sk-container-id-8 div.sk-parallel-item {display: flex;flex-direction: column;z-index: 1;position: relative;background-color: white;}#sk-container-id-8 div.sk-parallel-item:first-child::after {align-self: flex-end;width: 50%;}#sk-container-id-8 div.sk-parallel-item:last-child::after {align-self: flex-start;width: 50%;}#sk-container-id-8 div.sk-parallel-item:only-child::after {width: 0;}#sk-container-id-8 div.sk-dashed-wrapped {border: 1px dashed gray;margin: 0 0.4em 0.5em 0.4em;box-sizing: border-box;padding-bottom: 0.4em;background-color: white;}#sk-container-id-8 div.sk-label label {font-family: monospace;font-weight: bold;display: inline-block;line-height: 1.2em;}#sk-container-id-8 div.sk-label-container {text-align: center;}#sk-container-id-8 div.sk-container {/* jupyter's `normalize.less` sets `[hidden] { display: none; }` but bootstrap.min.css set `[hidden] { display: none !important; }` so we also need the `!important` here to be able to override the default hidden behavior on the sphinx rendered scikit-learn.org. See: https://github.com/scikit-learn/scikit-learn/issues/21755 */display: inline-block !important;position: relative;}#sk-container-id-8 div.sk-text-repr-fallback {display: none;}</style><div id=\"sk-container-id-8\" class=\"sk-top-container\"><div class=\"sk-text-repr-fallback\"><pre>DecisionTreeClassifier()</pre><b>In a Jupyter environment, please rerun this cell to show the HTML representation or trust the notebook. <br />On GitHub, the HTML representation is unable to render, please try loading this page with nbviewer.org.</b></div><div class=\"sk-container\" hidden><div class=\"sk-item\"><div class=\"sk-estimator sk-toggleable\"><input class=\"sk-toggleable__control sk-hidden--visually\" id=\"sk-estimator-id-8\" type=\"checkbox\" checked><label for=\"sk-estimator-id-8\" class=\"sk-toggleable__label sk-toggleable__label-arrow\">DecisionTreeClassifier</label><div class=\"sk-toggleable__content\"><pre>DecisionTreeClassifier()</pre></div></div></div></div></div>"
            ],
            "text/plain": [
              "DecisionTreeClassifier()"
            ]
          },
          "execution_count": 166,
          "metadata": {},
          "output_type": "execute_result"
        }
      ],
      "source": [
        "tree_model.fit(X_train, y_train)"
      ]
    },
    {
      "cell_type": "code",
      "execution_count": null,
      "id": "a55cb19b",
      "metadata": {
        "id": "a55cb19b",
        "tags": []
      },
      "outputs": [],
      "source": [
        "y_pred_tree = tree_model.predict(X_test)"
      ]
    },
    {
      "cell_type": "code",
      "execution_count": null,
      "id": "d559f2f8",
      "metadata": {
        "id": "d559f2f8",
        "outputId": "bf92c132-cbdd-44e9-e908-ba6b8529672c",
        "tags": []
      },
      "outputs": [
        {
          "name": "stdout",
          "output_type": "stream",
          "text": [
            "Accuracy: 0.91\n"
          ]
        }
      ],
      "source": [
        "accuracy = accuracy_score(y_test, y_pred_tree)\n",
        "print(f'Accuracy: {accuracy:.2f}')"
      ]
    },
    {
      "cell_type": "code",
      "execution_count": null,
      "id": "56b39ff1",
      "metadata": {
        "id": "56b39ff1",
        "outputId": "a5077615-b090-4476-9c18-90b4191b5296",
        "tags": []
      },
      "outputs": [
        {
          "data": {
            "text/plain": [
              "0.08666666666666667"
            ]
          },
          "execution_count": 169,
          "metadata": {},
          "output_type": "execute_result"
        }
      ],
      "source": [
        "#error\n",
        "1-accuracy_score(y_test,y_pred_tree)"
      ]
    },
    {
      "cell_type": "code",
      "execution_count": null,
      "id": "1f080a75",
      "metadata": {
        "id": "1f080a75",
        "outputId": "3d7dd3da-08cb-42eb-ab57-fe42244d9ec5",
        "tags": []
      },
      "outputs": [
        {
          "data": {
            "text/plain": [
              "array([[1095,   79],\n",
              "       [  51,  275]])"
            ]
          },
          "execution_count": 170,
          "metadata": {},
          "output_type": "execute_result"
        }
      ],
      "source": [
        "confusion_matrix(y_test,y_pred_tree)"
      ]
    },
    {
      "cell_type": "code",
      "execution_count": null,
      "id": "16e6856c",
      "metadata": {
        "id": "16e6856c",
        "outputId": "e5b387dc-56a6-4237-f743-ad8c1027c5d7",
        "tags": []
      },
      "outputs": [
        {
          "name": "stdout",
          "output_type": "stream",
          "text": [
            "              precision    recall  f1-score   support\n",
            "\n",
            "           0       0.96      0.93      0.94      1174\n",
            "           1       0.78      0.84      0.81       326\n",
            "\n",
            "    accuracy                           0.91      1500\n",
            "   macro avg       0.87      0.89      0.88      1500\n",
            "weighted avg       0.92      0.91      0.91      1500\n",
            "\n"
          ]
        }
      ],
      "source": [
        "print(classification_report(y_test,y_pred_tree))"
      ]
    },
    {
      "cell_type": "code",
      "execution_count": null,
      "id": "8ba6accd",
      "metadata": {
        "id": "8ba6accd",
        "tags": []
      },
      "outputs": [],
      "source": [
        "from sklearn.tree import plot_tree"
      ]
    },
    {
      "cell_type": "code",
      "execution_count": null,
      "id": "0ad94eee",
      "metadata": {
        "id": "0ad94eee",
        "outputId": "2093b3c2-29a9-471c-ee41-373916e1ff0d",
        "tags": []
      },
      "outputs": [
        {
          "data": {
            "image/png": "[encoded data removed]",
            "text/plain": [
              "<Figure size 1200x800 with 1 Axes>"
            ]
          },
          "metadata": {},
          "output_type": "display_data"
        }
      ],
      "source": [
        "plt.figure(figsize=(12,8))\n",
        "plot_tree(tree_model);"
      ]
    },
    {
      "cell_type": "markdown",
      "id": "6d001e62",
      "metadata": {
        "id": "6d001e62"
      },
      "source": [
        "<h3>CV for Decision Tree</h3>"
      ]
    },
    {
      "cell_type": "code",
      "execution_count": null,
      "id": "f4c2549a",
      "metadata": {
        "id": "f4c2549a",
        "outputId": "ce3a396d-92dd-47cf-855c-38864e8c5a88",
        "tags": []
      },
      "outputs": [
        {
          "name": "stdout",
          "output_type": "stream",
          "text": [
            "Best parameters: {'max_depth': 17}\n",
            "Best cross-validation accuracy: 0.90\n",
            "Accuracy with best –––max_depth: 0.92\n"
          ]
        }
      ],
      "source": [
        "from sklearn.model_selection import GridSearchCV\n",
        "from sklearn.tree import DecisionTreeClassifier\n",
        "from sklearn.metrics import accuracy_score\n",
        "from sklearn.model_selection import train_test_split\n",
        "\n",
        "X_train, X_test, y_train, y_test = train_test_split(X, y, test_size=0.3, random_state=101)\n",
        "\n",
        "param_grid = {'max_depth': range(1, 20)}\n",
        "tree_model = DecisionTreeClassifier()\n",
        "\n",
        "grid_search = GridSearchCV(tree_model, param_grid, cv=5, scoring='accuracy')\n",
        "\n",
        "grid_search.fit(X_train, y_train)\n",
        "\n",
        "best_params = grid_search.best_params_\n",
        "best_score = grid_search.best_score_\n",
        "\n",
        "print(f'Best parameters: {best_params}')\n",
        "print(f'Best cross-validation accuracy: {best_score:.2f}')\n",
        "\n",
        "# best 'max_depth' to train your final model\n",
        "tree_model_best = DecisionTreeClassifier(max_depth=best_params['max_depth'])\n",
        "tree_model_best.fit(X_train, y_train)\n",
        "\n",
        "# Evaluate the model with the best 'max_depth'\n",
        "y_pred_tree_best = tree_model_best.predict(X_test)\n",
        "accuracy_best = accuracy_score(y_test, y_pred_tree_best)\n",
        "print(f'Accuracy with best –––max_depth: {accuracy_best:.2f}')\n"
      ]
    },
    {
      "cell_type": "code",
      "execution_count": null,
      "id": "f74d9346",
      "metadata": {
        "id": "f74d9346",
        "outputId": "7b3755b1-9869-4e23-e402-ecf19ac7efa4"
      },
      "outputs": [
        {
          "data": {
            "text/plain": [
              "2654    0\n",
              "2468    0\n",
              "290     0\n",
              "1463    0\n",
              "4508    0\n",
              "       ..\n",
              "4171    1\n",
              "599     1\n",
              "1361    0\n",
              "1547    1\n",
              "4959    1\n",
              "Name: BS, Length: 3500, dtype: int64"
            ]
          },
          "execution_count": 175,
          "metadata": {},
          "output_type": "execute_result"
        }
      ],
      "source": [
        "y_train"
      ]
    },
    {
      "cell_type": "markdown",
      "id": "ddee4558",
      "metadata": {
        "id": "ddee4558"
      },
      "source": [
        "<h2>Random Forest - Classification </h2"
      ]
    },
    {
      "cell_type": "code",
      "execution_count": null,
      "id": "4474899c",
      "metadata": {
        "id": "4474899c",
        "tags": []
      },
      "outputs": [],
      "source": [
        "from sklearn.ensemble import RandomForestClassifier"
      ]
    },
    {
      "cell_type": "code",
      "execution_count": null,
      "id": "698fe3dd",
      "metadata": {
        "id": "698fe3dd",
        "tags": []
      },
      "outputs": [],
      "source": [
        "rfc=RandomForestClassifier(n_estimators=10,random_state=101)"
      ]
    },
    {
      "cell_type": "code",
      "execution_count": null,
      "id": "0243fc31",
      "metadata": {
        "id": "0243fc31",
        "outputId": "1e7a209e-7bf1-4ab2-fc9e-f1fa9a8555c5",
        "tags": []
      },
      "outputs": [
        {
          "data": {
            "text/html": [
              "<style>#sk-container-id-9 {color: black;background-color: white;}#sk-container-id-9 pre{padding: 0;}#sk-container-id-9 div.sk-toggleable {background-color: white;}#sk-container-id-9 label.sk-toggleable__label {cursor: pointer;display: block;width: 100%;margin-bottom: 0;padding: 0.3em;box-sizing: border-box;text-align: center;}#sk-container-id-9 label.sk-toggleable__label-arrow:before {content: \"▸\";float: left;margin-right: 0.25em;color: #696969;}#sk-container-id-9 label.sk-toggleable__label-arrow:hover:before {color: black;}#sk-container-id-9 div.sk-estimator:hover label.sk-toggleable__label-arrow:before {color: black;}#sk-container-id-9 div.sk-toggleable__content {max-height: 0;max-width: 0;overflow: hidden;text-align: left;background-color: #f0f8ff;}#sk-container-id-9 div.sk-toggleable__content pre {margin: 0.2em;color: black;border-radius: 0.25em;background-color: #f0f8ff;}#sk-container-id-9 input.sk-toggleable__control:checked~div.sk-toggleable__content {max-height: 200px;max-width: 100%;overflow: auto;}#sk-container-id-9 input.sk-toggleable__control:checked~label.sk-toggleable__label-arrow:before {content: \"▾\";}#sk-container-id-9 div.sk-estimator input.sk-toggleable__control:checked~label.sk-toggleable__label {background-color: #d4ebff;}#sk-container-id-9 div.sk-label input.sk-toggleable__control:checked~label.sk-toggleable__label {background-color: #d4ebff;}#sk-container-id-9 input.sk-hidden--visually {border: 0;clip: rect(1px 1px 1px 1px);clip: rect(1px, 1px, 1px, 1px);height: 1px;margin: -1px;overflow: hidden;padding: 0;position: absolute;width: 1px;}#sk-container-id-9 div.sk-estimator {font-family: monospace;background-color: #f0f8ff;border: 1px dotted black;border-radius: 0.25em;box-sizing: border-box;margin-bottom: 0.5em;}#sk-container-id-9 div.sk-estimator:hover {background-color: #d4ebff;}#sk-container-id-9 div.sk-parallel-item::after {content: \"\";width: 100%;border-bottom: 1px solid gray;flex-grow: 1;}#sk-container-id-9 div.sk-label:hover label.sk-toggleable__label {background-color: #d4ebff;}#sk-container-id-9 div.sk-serial::before {content: \"\";position: absolute;border-left: 1px solid gray;box-sizing: border-box;top: 0;bottom: 0;left: 50%;z-index: 0;}#sk-container-id-9 div.sk-serial {display: flex;flex-direction: column;align-items: center;background-color: white;padding-right: 0.2em;padding-left: 0.2em;position: relative;}#sk-container-id-9 div.sk-item {position: relative;z-index: 1;}#sk-container-id-9 div.sk-parallel {display: flex;align-items: stretch;justify-content: center;background-color: white;position: relative;}#sk-container-id-9 div.sk-item::before, #sk-container-id-9 div.sk-parallel-item::before {content: \"\";position: absolute;border-left: 1px solid gray;box-sizing: border-box;top: 0;bottom: 0;left: 50%;z-index: -1;}#sk-container-id-9 div.sk-parallel-item {display: flex;flex-direction: column;z-index: 1;position: relative;background-color: white;}#sk-container-id-9 div.sk-parallel-item:first-child::after {align-self: flex-end;width: 50%;}#sk-container-id-9 div.sk-parallel-item:last-child::after {align-self: flex-start;width: 50%;}#sk-container-id-9 div.sk-parallel-item:only-child::after {width: 0;}#sk-container-id-9 div.sk-dashed-wrapped {border: 1px dashed gray;margin: 0 0.4em 0.5em 0.4em;box-sizing: border-box;padding-bottom: 0.4em;background-color: white;}#sk-container-id-9 div.sk-label label {font-family: monospace;font-weight: bold;display: inline-block;line-height: 1.2em;}#sk-container-id-9 div.sk-label-container {text-align: center;}#sk-container-id-9 div.sk-container {/* jupyter's `normalize.less` sets `[hidden] { display: none; }` but bootstrap.min.css set `[hidden] { display: none !important; }` so we also need the `!important` here to be able to override the default hidden behavior on the sphinx rendered scikit-learn.org. See: https://github.com/scikit-learn/scikit-learn/issues/21755 */display: inline-block !important;position: relative;}#sk-container-id-9 div.sk-text-repr-fallback {display: none;}</style><div id=\"sk-container-id-9\" class=\"sk-top-container\"><div class=\"sk-text-repr-fallback\"><pre>RandomForestClassifier(n_estimators=10, random_state=101)</pre><b>In a Jupyter environment, please rerun this cell to show the HTML representation or trust the notebook. <br />On GitHub, the HTML representation is unable to render, please try loading this page with nbviewer.org.</b></div><div class=\"sk-container\" hidden><div class=\"sk-item\"><div class=\"sk-estimator sk-toggleable\"><input class=\"sk-toggleable__control sk-hidden--visually\" id=\"sk-estimator-id-9\" type=\"checkbox\" checked><label for=\"sk-estimator-id-9\" class=\"sk-toggleable__label sk-toggleable__label-arrow\">RandomForestClassifier</label><div class=\"sk-toggleable__content\"><pre>RandomForestClassifier(n_estimators=10, random_state=101)</pre></div></div></div></div></div>"
            ],
            "text/plain": [
              "RandomForestClassifier(n_estimators=10, random_state=101)"
            ]
          },
          "execution_count": 178,
          "metadata": {},
          "output_type": "execute_result"
        }
      ],
      "source": [
        "rfc.fit(X_train,y_train)"
      ]
    },
    {
      "cell_type": "code",
      "execution_count": null,
      "id": "bd3cfcee",
      "metadata": {
        "id": "bd3cfcee",
        "tags": []
      },
      "outputs": [],
      "source": [
        "y_pred_rfc=rfc.predict(X_test)"
      ]
    },
    {
      "cell_type": "code",
      "execution_count": null,
      "id": "fa360ac8",
      "metadata": {
        "id": "fa360ac8",
        "tags": []
      },
      "outputs": [],
      "source": [
        "from sklearn.metrics import accuracy_score,confusion_matrix,classification_report"
      ]
    },
    {
      "cell_type": "code",
      "execution_count": null,
      "id": "63fd1776",
      "metadata": {
        "id": "63fd1776",
        "outputId": "2b5c496b-66ea-4fb6-fff2-6951b5e5db96",
        "tags": []
      },
      "outputs": [
        {
          "name": "stdout",
          "output_type": "stream",
          "text": [
            "Accuracy: 0.92\n"
          ]
        }
      ],
      "source": [
        "accuracy = accuracy_score(y_test, y_pred_rfc)\n",
        "print(f'Accuracy: {accuracy:.2f}')"
      ]
    },
    {
      "cell_type": "code",
      "execution_count": null,
      "id": "9d9676ec",
      "metadata": {
        "id": "9d9676ec",
        "outputId": "53b41397-ae4e-4ca0-8933-c31431ac31fb",
        "tags": []
      },
      "outputs": [
        {
          "data": {
            "text/plain": [
              "0.07799999999999996"
            ]
          },
          "execution_count": 182,
          "metadata": {},
          "output_type": "execute_result"
        }
      ],
      "source": [
        "#error\n",
        "1-accuracy_score(y_test,y_pred_rfc)"
      ]
    },
    {
      "cell_type": "code",
      "execution_count": null,
      "id": "47ecdfa1",
      "metadata": {
        "id": "47ecdfa1",
        "outputId": "1765ae7a-d1c4-4fef-f380-2e0cedca7f27",
        "tags": []
      },
      "outputs": [
        {
          "data": {
            "text/plain": [
              "array([[1120,   54],\n",
              "       [  63,  263]])"
            ]
          },
          "execution_count": 183,
          "metadata": {},
          "output_type": "execute_result"
        }
      ],
      "source": [
        "confusion_matrix(y_test,y_pred_rfc)"
      ]
    },
    {
      "cell_type": "code",
      "execution_count": null,
      "id": "ff274ed0",
      "metadata": {
        "id": "ff274ed0",
        "outputId": "16eae30e-d15e-4a48-b8c4-313dac2baf0d",
        "scrolled": true,
        "tags": []
      },
      "outputs": [
        {
          "name": "stdout",
          "output_type": "stream",
          "text": [
            "              precision    recall  f1-score   support\n",
            "\n",
            "           0       0.95      0.95      0.95      1174\n",
            "           1       0.83      0.81      0.82       326\n",
            "\n",
            "    accuracy                           0.92      1500\n",
            "   macro avg       0.89      0.88      0.88      1500\n",
            "weighted avg       0.92      0.92      0.92      1500\n",
            "\n"
          ]
        }
      ],
      "source": [
        "print(classification_report(y_test,y_pred_rfc))"
      ]
    },
    {
      "cell_type": "markdown",
      "id": "8381887f",
      "metadata": {
        "id": "8381887f"
      },
      "source": [
        "<h3>CV for Random Forest</h3>"
      ]
    },
    {
      "cell_type": "code",
      "execution_count": null,
      "id": "07f5766f",
      "metadata": {
        "id": "07f5766f",
        "outputId": "c832e5bd-dac1-44b8-89ad-a48ff6708780",
        "tags": []
      },
      "outputs": [
        {
          "name": "stdout",
          "output_type": "stream",
          "text": [
            "Best parameters: {'n_estimators': 200}\n",
            "Best cross-validation accuracy: 0.92\n"
          ]
        }
      ],
      "source": [
        "from sklearn.model_selection import GridSearchCV\n",
        "\n",
        "param_grid = {\n",
        "    'n_estimators': [10, 50, 100, 200],\n",
        "}\n",
        "\n",
        "grid_search = GridSearchCV(rfc, param_grid, cv=5, scoring='accuracy')\n",
        "grid_search.fit(X_train, y_train)\n",
        "\n",
        "best_params = grid_search.best_params_\n",
        "best_score = grid_search.best_score_\n",
        "\n",
        "print(f'Best parameters: {best_params}')\n",
        "print(f'Best cross-validation accuracy: {best_score:.2f}')\n"
      ]
    },
    {
      "cell_type": "code",
      "execution_count": null,
      "id": "16d2a3cb",
      "metadata": {
        "id": "16d2a3cb"
      },
      "outputs": [],
      "source": []
    },
    {
      "cell_type": "markdown",
      "id": "51cb844b",
      "metadata": {
        "id": "51cb844b"
      },
      "source": [
        "<h2>Gradient Boosting</h2>"
      ]
    },
    {
      "cell_type": "code",
      "execution_count": null,
      "id": "dcbe4f43",
      "metadata": {
        "id": "dcbe4f43",
        "tags": []
      },
      "outputs": [],
      "source": [
        "from sklearn.model_selection import train_test_split"
      ]
    },
    {
      "cell_type": "code",
      "execution_count": null,
      "id": "8cb246cd",
      "metadata": {
        "id": "8cb246cd",
        "tags": []
      },
      "outputs": [],
      "source": [
        "X_train, X_test, y_train, y_test = train_test_split(X, y, test_size=0.3, random_state=101)"
      ]
    },
    {
      "cell_type": "code",
      "execution_count": null,
      "id": "c3d4b299",
      "metadata": {
        "id": "c3d4b299",
        "tags": []
      },
      "outputs": [],
      "source": [
        "from sklearn.ensemble import GradientBoostingClassifier"
      ]
    },
    {
      "cell_type": "code",
      "execution_count": null,
      "id": "7b93c3b2",
      "metadata": {
        "id": "7b93c3b2",
        "tags": []
      },
      "outputs": [],
      "source": [
        "gb_clf=GradientBoostingClassifier(random_state=101)"
      ]
    },
    {
      "cell_type": "code",
      "execution_count": null,
      "id": "87b1bb6c",
      "metadata": {
        "id": "87b1bb6c",
        "outputId": "ab09447b-8eee-4d5b-f6e7-8ae877dd484c",
        "tags": []
      },
      "outputs": [
        {
          "data": {
            "text/html": [
              "<style>#sk-container-id-10 {color: black;background-color: white;}#sk-container-id-10 pre{padding: 0;}#sk-container-id-10 div.sk-toggleable {background-color: white;}#sk-container-id-10 label.sk-toggleable__label {cursor: pointer;display: block;width: 100%;margin-bottom: 0;padding: 0.3em;box-sizing: border-box;text-align: center;}#sk-container-id-10 label.sk-toggleable__label-arrow:before {content: \"▸\";float: left;margin-right: 0.25em;color: #696969;}#sk-container-id-10 label.sk-toggleable__label-arrow:hover:before {color: black;}#sk-container-id-10 div.sk-estimator:hover label.sk-toggleable__label-arrow:before {color: black;}#sk-container-id-10 div.sk-toggleable__content {max-height: 0;max-width: 0;overflow: hidden;text-align: left;background-color: #f0f8ff;}#sk-container-id-10 div.sk-toggleable__content pre {margin: 0.2em;color: black;border-radius: 0.25em;background-color: #f0f8ff;}#sk-container-id-10 input.sk-toggleable__control:checked~div.sk-toggleable__content {max-height: 200px;max-width: 100%;overflow: auto;}#sk-container-id-10 input.sk-toggleable__control:checked~label.sk-toggleable__label-arrow:before {content: \"▾\";}#sk-container-id-10 div.sk-estimator input.sk-toggleable__control:checked~label.sk-toggleable__label {background-color: #d4ebff;}#sk-container-id-10 div.sk-label input.sk-toggleable__control:checked~label.sk-toggleable__label {background-color: #d4ebff;}#sk-container-id-10 input.sk-hidden--visually {border: 0;clip: rect(1px 1px 1px 1px);clip: rect(1px, 1px, 1px, 1px);height: 1px;margin: -1px;overflow: hidden;padding: 0;position: absolute;width: 1px;}#sk-container-id-10 div.sk-estimator {font-family: monospace;background-color: #f0f8ff;border: 1px dotted black;border-radius: 0.25em;box-sizing: border-box;margin-bottom: 0.5em;}#sk-container-id-10 div.sk-estimator:hover {background-color: #d4ebff;}#sk-container-id-10 div.sk-parallel-item::after {content: \"\";width: 100%;border-bottom: 1px solid gray;flex-grow: 1;}#sk-container-id-10 div.sk-label:hover label.sk-toggleable__label {background-color: #d4ebff;}#sk-container-id-10 div.sk-serial::before {content: \"\";position: absolute;border-left: 1px solid gray;box-sizing: border-box;top: 0;bottom: 0;left: 50%;z-index: 0;}#sk-container-id-10 div.sk-serial {display: flex;flex-direction: column;align-items: center;background-color: white;padding-right: 0.2em;padding-left: 0.2em;position: relative;}#sk-container-id-10 div.sk-item {position: relative;z-index: 1;}#sk-container-id-10 div.sk-parallel {display: flex;align-items: stretch;justify-content: center;background-color: white;position: relative;}#sk-container-id-10 div.sk-item::before, #sk-container-id-10 div.sk-parallel-item::before {content: \"\";position: absolute;border-left: 1px solid gray;box-sizing: border-box;top: 0;bottom: 0;left: 50%;z-index: -1;}#sk-container-id-10 div.sk-parallel-item {display: flex;flex-direction: column;z-index: 1;position: relative;background-color: white;}#sk-container-id-10 div.sk-parallel-item:first-child::after {align-self: flex-end;width: 50%;}#sk-container-id-10 div.sk-parallel-item:last-child::after {align-self: flex-start;width: 50%;}#sk-container-id-10 div.sk-parallel-item:only-child::after {width: 0;}#sk-container-id-10 div.sk-dashed-wrapped {border: 1px dashed gray;margin: 0 0.4em 0.5em 0.4em;box-sizing: border-box;padding-bottom: 0.4em;background-color: white;}#sk-container-id-10 div.sk-label label {font-family: monospace;font-weight: bold;display: inline-block;line-height: 1.2em;}#sk-container-id-10 div.sk-label-container {text-align: center;}#sk-container-id-10 div.sk-container {/* jupyter's `normalize.less` sets `[hidden] { display: none; }` but bootstrap.min.css set `[hidden] { display: none !important; }` so we also need the `!important` here to be able to override the default hidden behavior on the sphinx rendered scikit-learn.org. See: https://github.com/scikit-learn/scikit-learn/issues/21755 */display: inline-block !important;position: relative;}#sk-container-id-10 div.sk-text-repr-fallback {display: none;}</style><div id=\"sk-container-id-10\" class=\"sk-top-container\"><div class=\"sk-text-repr-fallback\"><pre>GradientBoostingClassifier(random_state=101)</pre><b>In a Jupyter environment, please rerun this cell to show the HTML representation or trust the notebook. <br />On GitHub, the HTML representation is unable to render, please try loading this page with nbviewer.org.</b></div><div class=\"sk-container\" hidden><div class=\"sk-item\"><div class=\"sk-estimator sk-toggleable\"><input class=\"sk-toggleable__control sk-hidden--visually\" id=\"sk-estimator-id-10\" type=\"checkbox\" checked><label for=\"sk-estimator-id-10\" class=\"sk-toggleable__label sk-toggleable__label-arrow\">GradientBoostingClassifier</label><div class=\"sk-toggleable__content\"><pre>GradientBoostingClassifier(random_state=101)</pre></div></div></div></div></div>"
            ],
            "text/plain": [
              "GradientBoostingClassifier(random_state=101)"
            ]
          },
          "execution_count": 190,
          "metadata": {},
          "output_type": "execute_result"
        }
      ],
      "source": [
        "gb_clf.fit(X_train,y_train)"
      ]
    },
    {
      "cell_type": "code",
      "execution_count": null,
      "id": "04864590",
      "metadata": {
        "id": "04864590",
        "tags": []
      },
      "outputs": [],
      "source": [
        "y_pred_gb=gb_clf.predict(X_test)"
      ]
    },
    {
      "cell_type": "code",
      "execution_count": null,
      "id": "6c9dda2b",
      "metadata": {
        "id": "6c9dda2b",
        "tags": []
      },
      "outputs": [],
      "source": [
        "from sklearn.metrics import accuracy_score, classification_report"
      ]
    },
    {
      "cell_type": "code",
      "execution_count": null,
      "id": "65ac5634",
      "metadata": {
        "id": "65ac5634",
        "tags": []
      },
      "outputs": [],
      "source": [
        "accuracy_gb=accuracy_score(y_test,y_pred_gb)"
      ]
    },
    {
      "cell_type": "code",
      "execution_count": null,
      "id": "bd3411a3",
      "metadata": {
        "id": "bd3411a3",
        "outputId": "ca2dfc03-9911-41dd-dd3d-32c41e6ce33c",
        "tags": []
      },
      "outputs": [
        {
          "name": "stdout",
          "output_type": "stream",
          "text": [
            "Accuracy for Gradient Boosting Classifier: 0.9066666666666666\n"
          ]
        }
      ],
      "source": [
        "print(f'Accuracy for Gradient Boosting Classifier: {accuracy_gb}')"
      ]
    },
    {
      "cell_type": "code",
      "execution_count": null,
      "id": "a4f20317",
      "metadata": {
        "id": "a4f20317",
        "outputId": "4e4f1bbd-4f1d-4f67-df4e-8511bf663757",
        "tags": []
      },
      "outputs": [
        {
          "name": "stdout",
          "output_type": "stream",
          "text": [
            "              precision    recall  f1-score   support\n",
            "\n",
            "           0       0.94      0.94      0.94      1174\n",
            "           1       0.79      0.78      0.78       326\n",
            "\n",
            "    accuracy                           0.91      1500\n",
            "   macro avg       0.86      0.86      0.86      1500\n",
            "weighted avg       0.91      0.91      0.91      1500\n",
            "\n"
          ]
        }
      ],
      "source": [
        "print(classification_report(y_test, y_pred_gb))"
      ]
    },
    {
      "cell_type": "code",
      "execution_count": null,
      "id": "f8038c4e",
      "metadata": {
        "id": "f8038c4e",
        "tags": []
      },
      "outputs": [],
      "source": [
        "from sklearn.model_selection import GridSearchCV"
      ]
    },
    {
      "cell_type": "code",
      "execution_count": null,
      "id": "5ece8dc4",
      "metadata": {
        "id": "5ece8dc4",
        "tags": []
      },
      "outputs": [],
      "source": [
        "param_grid = {\n",
        "    'n_estimators': [100, 200, 300],\n",
        "    'learning_rate': [0.01, 0.1, 0.2],\n",
        "    'max_depth': [3, 4, 5]\n",
        "}"
      ]
    },
    {
      "cell_type": "code",
      "execution_count": null,
      "id": "04129f29",
      "metadata": {
        "id": "04129f29",
        "tags": []
      },
      "outputs": [],
      "source": [
        "grid_search = GridSearchCV(GradientBoostingClassifier(random_state=101), param_grid, cv=5, scoring='accuracy')"
      ]
    },
    {
      "cell_type": "code",
      "execution_count": null,
      "id": "7938b40c",
      "metadata": {
        "id": "7938b40c",
        "outputId": "e964bab5-f78b-4e1c-be15-fb44099165d9",
        "tags": []
      },
      "outputs": [
        {
          "data": {
            "text/html": [
              "<style>#sk-container-id-11 {color: black;background-color: white;}#sk-container-id-11 pre{padding: 0;}#sk-container-id-11 div.sk-toggleable {background-color: white;}#sk-container-id-11 label.sk-toggleable__label {cursor: pointer;display: block;width: 100%;margin-bottom: 0;padding: 0.3em;box-sizing: border-box;text-align: center;}#sk-container-id-11 label.sk-toggleable__label-arrow:before {content: \"▸\";float: left;margin-right: 0.25em;color: #696969;}#sk-container-id-11 label.sk-toggleable__label-arrow:hover:before {color: black;}#sk-container-id-11 div.sk-estimator:hover label.sk-toggleable__label-arrow:before {color: black;}#sk-container-id-11 div.sk-toggleable__content {max-height: 0;max-width: 0;overflow: hidden;text-align: left;background-color: #f0f8ff;}#sk-container-id-11 div.sk-toggleable__content pre {margin: 0.2em;color: black;border-radius: 0.25em;background-color: #f0f8ff;}#sk-container-id-11 input.sk-toggleable__control:checked~div.sk-toggleable__content {max-height: 200px;max-width: 100%;overflow: auto;}#sk-container-id-11 input.sk-toggleable__control:checked~label.sk-toggleable__label-arrow:before {content: \"▾\";}#sk-container-id-11 div.sk-estimator input.sk-toggleable__control:checked~label.sk-toggleable__label {background-color: #d4ebff;}#sk-container-id-11 div.sk-label input.sk-toggleable__control:checked~label.sk-toggleable__label {background-color: #d4ebff;}#sk-container-id-11 input.sk-hidden--visually {border: 0;clip: rect(1px 1px 1px 1px);clip: rect(1px, 1px, 1px, 1px);height: 1px;margin: -1px;overflow: hidden;padding: 0;position: absolute;width: 1px;}#sk-container-id-11 div.sk-estimator {font-family: monospace;background-color: #f0f8ff;border: 1px dotted black;border-radius: 0.25em;box-sizing: border-box;margin-bottom: 0.5em;}#sk-container-id-11 div.sk-estimator:hover {background-color: #d4ebff;}#sk-container-id-11 div.sk-parallel-item::after {content: \"\";width: 100%;border-bottom: 1px solid gray;flex-grow: 1;}#sk-container-id-11 div.sk-label:hover label.sk-toggleable__label {background-color: #d4ebff;}#sk-container-id-11 div.sk-serial::before {content: \"\";position: absolute;border-left: 1px solid gray;box-sizing: border-box;top: 0;bottom: 0;left: 50%;z-index: 0;}#sk-container-id-11 div.sk-serial {display: flex;flex-direction: column;align-items: center;background-color: white;padding-right: 0.2em;padding-left: 0.2em;position: relative;}#sk-container-id-11 div.sk-item {position: relative;z-index: 1;}#sk-container-id-11 div.sk-parallel {display: flex;align-items: stretch;justify-content: center;background-color: white;position: relative;}#sk-container-id-11 div.sk-item::before, #sk-container-id-11 div.sk-parallel-item::before {content: \"\";position: absolute;border-left: 1px solid gray;box-sizing: border-box;top: 0;bottom: 0;left: 50%;z-index: -1;}#sk-container-id-11 div.sk-parallel-item {display: flex;flex-direction: column;z-index: 1;position: relative;background-color: white;}#sk-container-id-11 div.sk-parallel-item:first-child::after {align-self: flex-end;width: 50%;}#sk-container-id-11 div.sk-parallel-item:last-child::after {align-self: flex-start;width: 50%;}#sk-container-id-11 div.sk-parallel-item:only-child::after {width: 0;}#sk-container-id-11 div.sk-dashed-wrapped {border: 1px dashed gray;margin: 0 0.4em 0.5em 0.4em;box-sizing: border-box;padding-bottom: 0.4em;background-color: white;}#sk-container-id-11 div.sk-label label {font-family: monospace;font-weight: bold;display: inline-block;line-height: 1.2em;}#sk-container-id-11 div.sk-label-container {text-align: center;}#sk-container-id-11 div.sk-container {/* jupyter's `normalize.less` sets `[hidden] { display: none; }` but bootstrap.min.css set `[hidden] { display: none !important; }` so we also need the `!important` here to be able to override the default hidden behavior on the sphinx rendered scikit-learn.org. See: https://github.com/scikit-learn/scikit-learn/issues/21755 */display: inline-block !important;position: relative;}#sk-container-id-11 div.sk-text-repr-fallback {display: none;}</style><div id=\"sk-container-id-11\" class=\"sk-top-container\"><div class=\"sk-text-repr-fallback\"><pre>GridSearchCV(cv=5, estimator=GradientBoostingClassifier(random_state=101),\n",
              "             param_grid={&#x27;learning_rate&#x27;: [0.01, 0.1, 0.2],\n",
              "                         &#x27;max_depth&#x27;: [3, 4, 5],\n",
              "                         &#x27;n_estimators&#x27;: [100, 200, 300]},\n",
              "             scoring=&#x27;accuracy&#x27;)</pre><b>In a Jupyter environment, please rerun this cell to show the HTML representation or trust the notebook. <br />On GitHub, the HTML representation is unable to render, please try loading this page with nbviewer.org.</b></div><div class=\"sk-container\" hidden><div class=\"sk-item sk-dashed-wrapped\"><div class=\"sk-label-container\"><div class=\"sk-label sk-toggleable\"><input class=\"sk-toggleable__control sk-hidden--visually\" id=\"sk-estimator-id-11\" type=\"checkbox\" ><label for=\"sk-estimator-id-11\" class=\"sk-toggleable__label sk-toggleable__label-arrow\">GridSearchCV</label><div class=\"sk-toggleable__content\"><pre>GridSearchCV(cv=5, estimator=GradientBoostingClassifier(random_state=101),\n",
              "             param_grid={&#x27;learning_rate&#x27;: [0.01, 0.1, 0.2],\n",
              "                         &#x27;max_depth&#x27;: [3, 4, 5],\n",
              "                         &#x27;n_estimators&#x27;: [100, 200, 300]},\n",
              "             scoring=&#x27;accuracy&#x27;)</pre></div></div></div><div class=\"sk-parallel\"><div class=\"sk-parallel-item\"><div class=\"sk-item\"><div class=\"sk-label-container\"><div class=\"sk-label sk-toggleable\"><input class=\"sk-toggleable__control sk-hidden--visually\" id=\"sk-estimator-id-12\" type=\"checkbox\" ><label for=\"sk-estimator-id-12\" class=\"sk-toggleable__label sk-toggleable__label-arrow\">estimator: GradientBoostingClassifier</label><div class=\"sk-toggleable__content\"><pre>GradientBoostingClassifier(random_state=101)</pre></div></div></div><div class=\"sk-serial\"><div class=\"sk-item\"><div class=\"sk-estimator sk-toggleable\"><input class=\"sk-toggleable__control sk-hidden--visually\" id=\"sk-estimator-id-13\" type=\"checkbox\" ><label for=\"sk-estimator-id-13\" class=\"sk-toggleable__label sk-toggleable__label-arrow\">GradientBoostingClassifier</label><div class=\"sk-toggleable__content\"><pre>GradientBoostingClassifier(random_state=101)</pre></div></div></div></div></div></div></div></div></div></div>"
            ],
            "text/plain": [
              "GridSearchCV(cv=5, estimator=GradientBoostingClassifier(random_state=101),\n",
              "             param_grid={'learning_rate': [0.01, 0.1, 0.2],\n",
              "                         'max_depth': [3, 4, 5],\n",
              "                         'n_estimators': [100, 200, 300]},\n",
              "             scoring='accuracy')"
            ]
          },
          "execution_count": 199,
          "metadata": {},
          "output_type": "execute_result"
        }
      ],
      "source": [
        "grid_search.fit(X_train, y_train)"
      ]
    },
    {
      "cell_type": "code",
      "execution_count": null,
      "id": "9431819b",
      "metadata": {
        "id": "9431819b",
        "outputId": "dd2503ee-fc8a-427c-8682-31c6a150468e",
        "tags": []
      },
      "outputs": [
        {
          "name": "stdout",
          "output_type": "stream",
          "text": [
            "Best Parameters: {'learning_rate': 0.1, 'max_depth': 4, 'n_estimators': 300}\n"
          ]
        }
      ],
      "source": [
        "best_params = grid_search.best_params_\n",
        "print(f'Best Parameters: {best_params}')"
      ]
    },
    {
      "cell_type": "code",
      "execution_count": null,
      "id": "7cd04684",
      "metadata": {
        "id": "7cd04684",
        "tags": []
      },
      "outputs": [],
      "source": [
        "best_model = grid_search.best_estimator_"
      ]
    },
    {
      "cell_type": "code",
      "execution_count": null,
      "id": "d4561221",
      "metadata": {
        "id": "d4561221",
        "tags": []
      },
      "outputs": [],
      "source": [
        "y_pred_best_gb = best_model.predict(X_test)"
      ]
    },
    {
      "cell_type": "code",
      "execution_count": null,
      "id": "4ba4e78e",
      "metadata": {
        "id": "4ba4e78e",
        "outputId": "edbb149a-79e0-4af3-825a-23e399d12267",
        "tags": []
      },
      "outputs": [
        {
          "name": "stdout",
          "output_type": "stream",
          "text": [
            "Best Accuracy for Gradient Boosting Classifier: 0.9326666666666666\n"
          ]
        }
      ],
      "source": [
        "accuracy_best_gb = accuracy_score(y_test, y_pred_best_gb)\n",
        "print(f'Best Accuracy for Gradient Boosting Classifier: {accuracy_best_gb}')"
      ]
    },
    {
      "cell_type": "code",
      "execution_count": null,
      "id": "8626ae1f",
      "metadata": {
        "id": "8626ae1f",
        "outputId": "7bdb8e5d-24e6-4c3c-8f5e-c30f5ce16aeb",
        "tags": []
      },
      "outputs": [
        {
          "data": {
            "text/plain": [
              "0.06733333333333336"
            ]
          },
          "execution_count": 204,
          "metadata": {},
          "output_type": "execute_result"
        }
      ],
      "source": [
        "1-accuracy_best_gb"
      ]
    },
    {
      "cell_type": "code",
      "execution_count": null,
      "id": "449b061d",
      "metadata": {
        "id": "449b061d",
        "outputId": "8f80a165-cbff-46d6-b38b-36707d4a77e8",
        "tags": []
      },
      "outputs": [
        {
          "data": {
            "text/plain": [
              "array([[1125,   49],\n",
              "       [  52,  274]])"
            ]
          },
          "execution_count": 206,
          "metadata": {},
          "output_type": "execute_result"
        }
      ],
      "source": [
        "confusion_matrix(y_test,y_pred_best_gb)"
      ]
    },
    {
      "cell_type": "code",
      "execution_count": null,
      "id": "c4aa5bf6-1611-4841-8fac-3f21fdfce968",
      "metadata": {
        "tags": [],
        "id": "c4aa5bf6-1611-4841-8fac-3f21fdfce968",
        "outputId": "7dec2dfe-688c-4c42-d59b-39c00c36b8fb"
      },
      "outputs": [
        {
          "name": "stdout",
          "output_type": "stream",
          "text": [
            "              precision    recall  f1-score   support\n",
            "\n",
            "           0       0.96      0.96      0.96      1174\n",
            "           1       0.85      0.84      0.84       326\n",
            "\n",
            "    accuracy                           0.93      1500\n",
            "   macro avg       0.90      0.90      0.90      1500\n",
            "weighted avg       0.93      0.93      0.93      1500\n",
            "\n"
          ]
        }
      ],
      "source": [
        "print(classification_report(y_test, y_pred_best_gb))"
      ]
    },
    {
      "cell_type": "markdown",
      "id": "b7c9229b-61a9-4b13-99bf-2ade6df695a0",
      "metadata": {
        "id": "b7c9229b-61a9-4b13-99bf-2ade6df695a0"
      },
      "source": [
        "<h2>XGBoost Classifier</h2>"
      ]
    },
    {
      "cell_type": "code",
      "execution_count": null,
      "id": "c445061a-a5c5-47ae-8347-31d5ac170c72",
      "metadata": {
        "tags": [],
        "id": "c445061a-a5c5-47ae-8347-31d5ac170c72",
        "outputId": "eb259553-d591-44bf-dd2f-9bf1ba1eecca"
      },
      "outputs": [
        {
          "data": {
            "text/html": [
              "<style>#sk-container-id-12 {color: black;background-color: white;}#sk-container-id-12 pre{padding: 0;}#sk-container-id-12 div.sk-toggleable {background-color: white;}#sk-container-id-12 label.sk-toggleable__label {cursor: pointer;display: block;width: 100%;margin-bottom: 0;padding: 0.3em;box-sizing: border-box;text-align: center;}#sk-container-id-12 label.sk-toggleable__label-arrow:before {content: \"▸\";float: left;margin-right: 0.25em;color: #696969;}#sk-container-id-12 label.sk-toggleable__label-arrow:hover:before {color: black;}#sk-container-id-12 div.sk-estimator:hover label.sk-toggleable__label-arrow:before {color: black;}#sk-container-id-12 div.sk-toggleable__content {max-height: 0;max-width: 0;overflow: hidden;text-align: left;background-color: #f0f8ff;}#sk-container-id-12 div.sk-toggleable__content pre {margin: 0.2em;color: black;border-radius: 0.25em;background-color: #f0f8ff;}#sk-container-id-12 input.sk-toggleable__control:checked~div.sk-toggleable__content {max-height: 200px;max-width: 100%;overflow: auto;}#sk-container-id-12 input.sk-toggleable__control:checked~label.sk-toggleable__label-arrow:before {content: \"▾\";}#sk-container-id-12 div.sk-estimator input.sk-toggleable__control:checked~label.sk-toggleable__label {background-color: #d4ebff;}#sk-container-id-12 div.sk-label input.sk-toggleable__control:checked~label.sk-toggleable__label {background-color: #d4ebff;}#sk-container-id-12 input.sk-hidden--visually {border: 0;clip: rect(1px 1px 1px 1px);clip: rect(1px, 1px, 1px, 1px);height: 1px;margin: -1px;overflow: hidden;padding: 0;position: absolute;width: 1px;}#sk-container-id-12 div.sk-estimator {font-family: monospace;background-color: #f0f8ff;border: 1px dotted black;border-radius: 0.25em;box-sizing: border-box;margin-bottom: 0.5em;}#sk-container-id-12 div.sk-estimator:hover {background-color: #d4ebff;}#sk-container-id-12 div.sk-parallel-item::after {content: \"\";width: 100%;border-bottom: 1px solid gray;flex-grow: 1;}#sk-container-id-12 div.sk-label:hover label.sk-toggleable__label {background-color: #d4ebff;}#sk-container-id-12 div.sk-serial::before {content: \"\";position: absolute;border-left: 1px solid gray;box-sizing: border-box;top: 0;bottom: 0;left: 50%;z-index: 0;}#sk-container-id-12 div.sk-serial {display: flex;flex-direction: column;align-items: center;background-color: white;padding-right: 0.2em;padding-left: 0.2em;position: relative;}#sk-container-id-12 div.sk-item {position: relative;z-index: 1;}#sk-container-id-12 div.sk-parallel {display: flex;align-items: stretch;justify-content: center;background-color: white;position: relative;}#sk-container-id-12 div.sk-item::before, #sk-container-id-12 div.sk-parallel-item::before {content: \"\";position: absolute;border-left: 1px solid gray;box-sizing: border-box;top: 0;bottom: 0;left: 50%;z-index: -1;}#sk-container-id-12 div.sk-parallel-item {display: flex;flex-direction: column;z-index: 1;position: relative;background-color: white;}#sk-container-id-12 div.sk-parallel-item:first-child::after {align-self: flex-end;width: 50%;}#sk-container-id-12 div.sk-parallel-item:last-child::after {align-self: flex-start;width: 50%;}#sk-container-id-12 div.sk-parallel-item:only-child::after {width: 0;}#sk-container-id-12 div.sk-dashed-wrapped {border: 1px dashed gray;margin: 0 0.4em 0.5em 0.4em;box-sizing: border-box;padding-bottom: 0.4em;background-color: white;}#sk-container-id-12 div.sk-label label {font-family: monospace;font-weight: bold;display: inline-block;line-height: 1.2em;}#sk-container-id-12 div.sk-label-container {text-align: center;}#sk-container-id-12 div.sk-container {/* jupyter's `normalize.less` sets `[hidden] { display: none; }` but bootstrap.min.css set `[hidden] { display: none !important; }` so we also need the `!important` here to be able to override the default hidden behavior on the sphinx rendered scikit-learn.org. See: https://github.com/scikit-learn/scikit-learn/issues/21755 */display: inline-block !important;position: relative;}#sk-container-id-12 div.sk-text-repr-fallback {display: none;}</style><div id=\"sk-container-id-12\" class=\"sk-top-container\"><div class=\"sk-text-repr-fallback\"><pre>XGBClassifier(base_score=None, booster=None, callbacks=None,\n",
              "              colsample_bylevel=None, colsample_bynode=None,\n",
              "              colsample_bytree=None, device=None, early_stopping_rounds=None,\n",
              "              enable_categorical=False, eval_metric=&#x27;mlogloss&#x27;,\n",
              "              feature_types=None, gamma=None, grow_policy=None,\n",
              "              importance_type=None, interaction_constraints=None,\n",
              "              learning_rate=None, max_bin=None, max_cat_threshold=None,\n",
              "              max_cat_to_onehot=None, max_delta_step=None, max_depth=None,\n",
              "              max_leaves=None, min_child_weight=None, missing=nan,\n",
              "              monotone_constraints=None, multi_strategy=None, n_estimators=None,\n",
              "              n_jobs=None, num_parallel_tree=None, random_state=None, ...)</pre><b>In a Jupyter environment, please rerun this cell to show the HTML representation or trust the notebook. <br />On GitHub, the HTML representation is unable to render, please try loading this page with nbviewer.org.</b></div><div class=\"sk-container\" hidden><div class=\"sk-item\"><div class=\"sk-estimator sk-toggleable\"><input class=\"sk-toggleable__control sk-hidden--visually\" id=\"sk-estimator-id-14\" type=\"checkbox\" checked><label for=\"sk-estimator-id-14\" class=\"sk-toggleable__label sk-toggleable__label-arrow\">XGBClassifier</label><div class=\"sk-toggleable__content\"><pre>XGBClassifier(base_score=None, booster=None, callbacks=None,\n",
              "              colsample_bylevel=None, colsample_bynode=None,\n",
              "              colsample_bytree=None, device=None, early_stopping_rounds=None,\n",
              "              enable_categorical=False, eval_metric=&#x27;mlogloss&#x27;,\n",
              "              feature_types=None, gamma=None, grow_policy=None,\n",
              "              importance_type=None, interaction_constraints=None,\n",
              "              learning_rate=None, max_bin=None, max_cat_threshold=None,\n",
              "              max_cat_to_onehot=None, max_delta_step=None, max_depth=None,\n",
              "              max_leaves=None, min_child_weight=None, missing=nan,\n",
              "              monotone_constraints=None, multi_strategy=None, n_estimators=None,\n",
              "              n_jobs=None, num_parallel_tree=None, random_state=None, ...)</pre></div></div></div></div></div>"
            ],
            "text/plain": [
              "XGBClassifier(base_score=None, booster=None, callbacks=None,\n",
              "              colsample_bylevel=None, colsample_bynode=None,\n",
              "              colsample_bytree=None, device=None, early_stopping_rounds=None,\n",
              "              enable_categorical=False, eval_metric='mlogloss',\n",
              "              feature_types=None, gamma=None, grow_policy=None,\n",
              "              importance_type=None, interaction_constraints=None,\n",
              "              learning_rate=None, max_bin=None, max_cat_threshold=None,\n",
              "              max_cat_to_onehot=None, max_delta_step=None, max_depth=None,\n",
              "              max_leaves=None, min_child_weight=None, missing=nan,\n",
              "              monotone_constraints=None, multi_strategy=None, n_estimators=None,\n",
              "              n_jobs=None, num_parallel_tree=None, random_state=None, ...)"
            ]
          },
          "execution_count": 207,
          "metadata": {},
          "output_type": "execute_result"
        }
      ],
      "source": [
        "from xgboost import XGBClassifier\n",
        "\n",
        "xg_model = XGBClassifier(use_label_encoder=False, eval_metric='mlogloss')\n",
        "\n",
        "xg_model.fit(X_train, y_train)\n"
      ]
    },
    {
      "cell_type": "code",
      "execution_count": null,
      "id": "0f4ce87a-dec2-4031-b397-f536fb76b533",
      "metadata": {
        "tags": [],
        "id": "0f4ce87a-dec2-4031-b397-f536fb76b533",
        "outputId": "418690f8-bc22-4ee4-dc5d-50347d0e0d97"
      },
      "outputs": [
        {
          "name": "stdout",
          "output_type": "stream",
          "text": [
            "Accuracy: 0.9306666666666666\n",
            "Classification Report:\n",
            "               precision    recall  f1-score   support\n",
            "\n",
            "           0       0.95      0.96      0.96      1174\n",
            "           1       0.84      0.84      0.84       326\n",
            "\n",
            "    accuracy                           0.93      1500\n",
            "   macro avg       0.90      0.90      0.90      1500\n",
            "weighted avg       0.93      0.93      0.93      1500\n",
            "\n"
          ]
        }
      ],
      "source": [
        "from sklearn.metrics import accuracy_score, classification_report\n",
        "\n",
        "# Predict on the test data\n",
        "y_pred_xg = xg_model.predict(X_test)\n",
        "\n",
        "# Evaluate the model\n",
        "accuracy = accuracy_score(y_test, y_pred_xg)\n",
        "report = classification_report(y_test, y_pred_xg)\n",
        "\n",
        "print(\"Accuracy:\", accuracy)\n",
        "print(\"Classification Report:\\n\", report)\n"
      ]
    },
    {
      "cell_type": "code",
      "execution_count": null,
      "id": "e396a71f-52d2-4db8-8765-470fac982b4d",
      "metadata": {
        "tags": [],
        "id": "e396a71f-52d2-4db8-8765-470fac982b4d",
        "outputId": "f38e1457-d549-4158-aa6b-966adc143219"
      },
      "outputs": [
        {
          "data": {
            "text/plain": [
              "1718    1\n",
              "2511    0\n",
              "345     0\n",
              "2521    0\n",
              "54      1\n",
              "       ..\n",
              "3412    0\n",
              "4020    0\n",
              "4635    0\n",
              "1700    1\n",
              "790     1\n",
              "Name: BS, Length: 1500, dtype: int64"
            ]
          },
          "execution_count": 211,
          "metadata": {},
          "output_type": "execute_result"
        }
      ],
      "source": [
        "y_test"
      ]
    },
    {
      "cell_type": "code",
      "execution_count": null,
      "id": "3d5b17c0-0f83-4594-b823-81017c86a43b",
      "metadata": {
        "tags": [],
        "id": "3d5b17c0-0f83-4594-b823-81017c86a43b",
        "outputId": "f6d3bfa4-6ebc-4814-9066-dfaba0e0873d"
      },
      "outputs": [
        {
          "name": "stdout",
          "output_type": "stream",
          "text": [
            "0    2694\n",
            "1     806\n",
            "Name: BS, dtype: int64\n"
          ]
        }
      ],
      "source": [
        "print(y_train.value_counts())"
      ]
    },
    {
      "cell_type": "code",
      "execution_count": null,
      "id": "7b64ed04-b934-4b47-8ea8-5c19222537c2",
      "metadata": {
        "tags": [],
        "id": "7b64ed04-b934-4b47-8ea8-5c19222537c2",
        "outputId": "1da380e5-588e-490d-8e42-890ad6e41ca6"
      },
      "outputs": [
        {
          "data": {
            "text/plain": [
              "806"
            ]
          },
          "execution_count": 213,
          "metadata": {},
          "output_type": "execute_result"
        }
      ],
      "source": [
        "prediction_over=0\n",
        "for x in y_train:\n",
        "    if x == 1:\n",
        "        prediction_over+=1\n",
        "prediction_over"
      ]
    },
    {
      "cell_type": "code",
      "execution_count": null,
      "id": "d7b6d51e-1eb3-4a22-b65e-4f327442408a",
      "metadata": {
        "tags": [],
        "id": "d7b6d51e-1eb3-4a22-b65e-4f327442408a",
        "outputId": "b16dbd86-3ea6-4baa-a4db-5ea8c98c40ef"
      },
      "outputs": [
        {
          "data": {
            "image/png": "[encoded data removed]",
            "text/plain": [
              "<Figure size 640x480 with 1 Axes>"
            ]
          },
          "metadata": {},
          "output_type": "display_data"
        }
      ],
      "source": [
        "import xgboost as xgb\n",
        "import matplotlib.pyplot as plt\n",
        "\n",
        "# Plot feature importance\n",
        "xgb.plot_importance(xg_model)\n",
        "plt.title('Feature Importance')\n",
        "plt.show()\n"
      ]
    },
    {
      "cell_type": "code",
      "execution_count": null,
      "id": "2810bbcb-2cb5-4020-8d43-9c2a580dfd11",
      "metadata": {
        "tags": [],
        "id": "2810bbcb-2cb5-4020-8d43-9c2a580dfd11",
        "outputId": "b3fd95c2-4561-4554-cbae-1d5f4cc3a561"
      },
      "outputs": [
        {
          "name": "stdout",
          "output_type": "stream",
          "text": [
            "Best parameters: {'learning_rate': 0.2, 'max_depth': 9, 'n_estimators': 200}\n",
            "Best score: 0.932\n"
          ]
        }
      ],
      "source": [
        "from sklearn.model_selection import GridSearchCV\n",
        "\n",
        "parameters = {\n",
        "    'max_depth': [3, 5, 7, 9],\n",
        "    'n_estimators': [50, 100, 200],\n",
        "    'learning_rate': [0.01, 0.1, 0.2]\n",
        "}\n",
        "\n",
        "grid_search = GridSearchCV(estimator=model, param_grid=parameters, scoring='accuracy', cv=5)\n",
        "grid_search.fit(X_train, y_train)\n",
        "\n",
        "print(\"Best parameters:\", grid_search.best_params_)\n",
        "print(\"Best score:\", grid_search.best_score_)\n"
      ]
    },
    {
      "cell_type": "code",
      "execution_count": null,
      "id": "a3fb4f46-5fb7-43a4-b59a-d2ce500a1605",
      "metadata": {
        "tags": [],
        "id": "a3fb4f46-5fb7-43a4-b59a-d2ce500a1605"
      },
      "outputs": [],
      "source": [
        "best_model = grid_search.best_estimator_"
      ]
    },
    {
      "cell_type": "code",
      "execution_count": null,
      "id": "ce673c03-805d-4500-a31c-772409cbda88",
      "metadata": {
        "tags": [],
        "id": "ce673c03-805d-4500-a31c-772409cbda88"
      },
      "outputs": [],
      "source": [
        "y_pred_best_xgboost = best_model.predict(X_test)"
      ]
    },
    {
      "cell_type": "code",
      "execution_count": null,
      "id": "0d80c28c-de20-4a8a-8eaa-af7e9d742d1a",
      "metadata": {
        "tags": [],
        "id": "0d80c28c-de20-4a8a-8eaa-af7e9d742d1a",
        "outputId": "f6eeaea2-7972-4ce9-dd9e-3c196c8922ae"
      },
      "outputs": [
        {
          "name": "stdout",
          "output_type": "stream",
          "text": [
            "0.06799999999999995\n"
          ]
        }
      ],
      "source": [
        "Classification_Error = 1-grid_search.best_score_\n",
        "print(Classification_Error)"
      ]
    },
    {
      "cell_type": "code",
      "execution_count": null,
      "id": "aafe8a31-7299-46ab-9081-ebb60b672f19",
      "metadata": {
        "tags": [],
        "id": "aafe8a31-7299-46ab-9081-ebb60b672f19",
        "outputId": "55915e25-678d-4688-bf02-efdba84c17ac"
      },
      "outputs": [
        {
          "data": {
            "text/plain": [
              "array([[1118,   56],\n",
              "       [  47,  279]])"
            ]
          },
          "execution_count": 224,
          "metadata": {},
          "output_type": "execute_result"
        }
      ],
      "source": [
        "confusion_matrix(y_test,y_pred_best_xgboost)"
      ]
    },
    {
      "cell_type": "code",
      "execution_count": null,
      "id": "f52c7ca4-8f45-4b41-8966-1ad616a64dcf",
      "metadata": {
        "tags": [],
        "id": "f52c7ca4-8f45-4b41-8966-1ad616a64dcf",
        "outputId": "b4bbf6a2-4665-4e56-9b57-eb9982858893"
      },
      "outputs": [
        {
          "name": "stdout",
          "output_type": "stream",
          "text": [
            "              precision    recall  f1-score   support\n",
            "\n",
            "           0       0.96      0.95      0.96      1174\n",
            "           1       0.83      0.86      0.84       326\n",
            "\n",
            "    accuracy                           0.93      1500\n",
            "   macro avg       0.90      0.90      0.90      1500\n",
            "weighted avg       0.93      0.93      0.93      1500\n",
            "\n"
          ]
        }
      ],
      "source": [
        "print(classification_report(y_test, y_pred_best_xgboost))"
      ]
    },
    {
      "cell_type": "code",
      "execution_count": null,
      "id": "423de5c1-5a9c-49ea-af44-436ab04674ce",
      "metadata": {
        "id": "423de5c1-5a9c-49ea-af44-436ab04674ce"
      },
      "outputs": [],
      "source": []
    }
  ],
  "metadata": {
    "colab": {
      "provenance": []
    },
    "kernelspec": {
      "display_name": "Python 3 (ipykernel)",
      "language": "python",
      "name": "python3"
    },
    "language_info": {
      "codemirror_mode": {
        "name": "ipython",
        "version": 3
      },
      "file_extension": ".py",
      "mimetype": "text/x-python",
      "name": "python",
      "nbconvert_exporter": "python",
      "pygments_lexer": "ipython3",
      "version": "3.11.5"
    }
  },
  "nbformat": 4,
  "nbformat_minor": 5
}